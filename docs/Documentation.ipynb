{
 "cells": [
  {
   "cell_type": "markdown",
   "metadata": {
    "hideCode": false,
    "hidePrompt": false
   },
   "source": [
    "<center><b>\n",
    "<span style=\"font-size: 2em;\">\n",
    "GeometricTools Documentation</span><br><span style=\"font-size: 1em;\">\n",
    "Last Update: 08/2018</span>  \n",
    "</b></center>"
   ]
  },
  {
   "cell_type": "code",
   "execution_count": 1,
   "metadata": {
    "hideCode": false,
    "hidePrompt": false,
    "scrolled": true
   },
   "outputs": [
    {
     "name": "stderr",
     "output_type": "stream",
     "text": [
      "┌ Info: Recompiling stale cache file /home/taylor/.julia/compiled/v0.7/GeometricTools/lt551.ji for GeometricTools [a07811a2-ebe6-552a-bac0-105b256a93df]\n",
      "└ @ Base loading.jl:1185\n",
      "┌ Warning: Package GeometricTools does not have Statistics in its dependencies:\n",
      "│ - If you have GeometricTools checked out for development and have\n",
      "│   added Statistics as a dependency but haven't updated your primary\n",
      "│   environment's manifest file, try `Pkg.resolve()`.\n",
      "│ - Otherwise you may need to report an issue with GeometricTools\n",
      "└ Loading Statistics into GeometricTools from project dependency, future warnings for GeometricTools are suppressed.\n"
     ]
    }
   ],
   "source": [
    "using PyPlot\n",
    "using QuadGK\n",
    "using Roots\n",
    "\n",
    "module_path,_ = splitdir(@__FILE__);   # Path to this module\n",
    "\n",
    "# Load GeometricTools\n",
    "# include(joinpath(module_path,\"../src/GeometricTools.jl\"))\n",
    "import GeometricTools\n",
    "gt = GeometricTools\n",
    "\n",
    "# Load examples\n",
    "include(joinpath(module_path,\"../examples/examples.jl\")) \n",
    "examples = GeometricTools_examples\n",
    "\n",
    "# Path to data files\n",
    "data_path = examples.data_path\n",
    "\n",
    "# Inline plots\n",
    "pygui(false);"
   ]
  },
  {
   "cell_type": "markdown",
   "metadata": {
    "heading_collapsed": true
   },
   "source": [
    "# Table of Contents"
   ]
  },
  {
   "cell_type": "markdown",
   "metadata": {
    "hidden": true
   },
   "source": [
    "<!-- <h1 id=\"tocheading\">Table of Contents</h1> -->\n",
    "<div id=\"toc\"></div>"
   ]
  },
  {
   "cell_type": "code",
   "execution_count": 4,
   "metadata": {
    "hidden": true
   },
   "outputs": [
    {
     "data": {
      "application/javascript": [
       "$.getScript('https://kmahelona.github.io/ipython_notebook_goodies/ipython_notebook_toc.js')\n"
      ]
     },
     "metadata": {},
     "output_type": "display_data"
    }
   ],
   "source": [
    "macro javascript_str(s) display(\"text/javascript\", s); end\n",
    "\n",
    "javascript\"\"\"\n",
    "$.getScript('https://kmahelona.github.io/ipython_notebook_goodies/ipython_notebook_toc.js')\n",
    "\"\"\""
   ]
  },
  {
   "cell_type": "markdown",
   "metadata": {
    "heading_collapsed": true,
    "hideCode": false,
    "hidePrompt": false
   },
   "source": [
    "# Geometric Manipulation"
   ]
  },
  {
   "cell_type": "markdown",
   "metadata": {
    "heading_collapsed": true,
    "hidden": true,
    "hideCode": false,
    "hidePrompt": false
   },
   "source": [
    "## Discretization"
   ]
  },
  {
   "cell_type": "code",
   "execution_count": 3,
   "metadata": {
    "hidden": true,
    "hideCode": false,
    "hidePrompt": false
   },
   "outputs": [
    {
     "data": {
      "text/markdown": [
       "`discretize(f, xlow, xhigh, n::Int64, r::Float64; central::Bool=false)`\n",
       "\n",
       "Discretizes the continuous function `f` between the range `xlow` and `xhigh` into `n` intervals, with `r` the ratio between first and last interval if `central=false` or between first and central interval if `central=true`.\n",
       "\n",
       "**Examples**\n",
       "\n",
       "The following lines show the discretization of a semi-circumference perimeter   into 100 intervals of uniform length:\n",
       "\n",
       "`julia     julia> f(x) = (x, sqrt(1-round(x,digits=8)^2), 0)  # Semi-circunference of radius 1     julia> discretize(f, -1, 1, 100, 1.0)`\n"
      ],
      "text/plain": [
       "  \u001b[36mdiscretize(f, xlow, xhigh, n::Int64, r::Float64; central::Bool=false)\u001b[39m\n",
       "\n",
       "  Discretizes the continuous function \u001b[36mf\u001b[39m between the range \u001b[36mxlow\u001b[39m and \u001b[36mxhigh\u001b[39m into\n",
       "  \u001b[36mn\u001b[39m intervals, with \u001b[36mr\u001b[39m the ratio between first and last interval if\n",
       "  \u001b[36mcentral=false\u001b[39m or between first and central interval if \u001b[36mcentral=true\u001b[39m.\n",
       "\n",
       "  \u001b[1mExamples\u001b[22m\n",
       "\n",
       "  The following lines show the discretization of a semi-circumference\n",
       "  perimeter into 100 intervals of uniform length:\n",
       "\n",
       "  \u001b[36mjulia     julia> f(x) = (x, sqrt(1-round(x,digits=8)^2), 0)  #\n",
       "  Semi-circunference of radius 1     julia> discretize(f, -1, 1, 100, 1.0)\u001b[39m"
      ]
     },
     "execution_count": 3,
     "metadata": {},
     "output_type": "execute_result"
    }
   ],
   "source": [
    "?gt.discretize"
   ]
  },
  {
   "cell_type": "code",
   "execution_count": 4,
   "metadata": {
    "hidden": true,
    "hideCode": false,
    "hidePrompt": false
   },
   "outputs": [
    {
     "data": {
      "image/png": "[encoded data removed]",
      "text/plain": [
       "Figure(PyObject <Figure size 500x250 with 1 Axes>)"
      ]
     },
     "metadata": {},
     "output_type": "display_data"
    }
   ],
   "source": [
    "f(x) = (x, sqrt(1-round(x,digits=8)^2), 0)\n",
    "\n",
    "points = gt.discretize(f, -1, 1, 25, 1.0)\n",
    "\n",
    "function plot1(points)\n",
    "    x = [p[1] for p in points]\n",
    "    y = [p[2] for p in points]\n",
    "    z = [p[3] for p in points]\n",
    "\n",
    "    fig = figure(\"\", figsize=(5,2.5))\n",
    "    plot(x,y, \"--.k\")\n",
    "    xlim([-1, 1]*1.1)\n",
    "    ylim([0, 1]*1.1)\n",
    "    grid(true, color=\"0.8\", linestyle=\"--\")\n",
    "end\n",
    "\n",
    "plot1(points)"
   ]
  },
  {
   "cell_type": "markdown",
   "metadata": {
    "hidden": true,
    "hideCode": false,
    "hidePrompt": false
   },
   "source": [
    "However, parameterizing the curve as `f(x) = (x, sqrt(1-x^2), 0)`, the discretization was done evenly spaced in `x`. If we want to evenly space the path of the curve, we'd be better off parameterizing it as `f(theta) = (cos(theta), sin(theta), 0)`:"
   ]
  },
  {
   "cell_type": "code",
   "execution_count": 5,
   "metadata": {
    "hidden": true,
    "hideCode": false,
    "hidePrompt": false
   },
   "outputs": [
    {
     "data": {
      "image/png": "[encoded data removed]",
      "text/plain": [
       "Figure(PyObject <Figure size 500x250 with 1 Axes>)"
      ]
     },
     "metadata": {},
     "output_type": "display_data"
    }
   ],
   "source": [
    "f(theta) = (cos(theta), sin(theta), 0)\n",
    "points = gt.discretize(f, 0, pi, 25, 1.0)\n",
    "plot1(points)"
   ]
  },
  {
   "cell_type": "markdown",
   "metadata": {
    "hidden": true,
    "hideCode": false,
    "hidePrompt": false
   },
   "source": [
    "That looks better. If now we want to increase the step size as we go along the curve (`r=1/8`):"
   ]
  },
  {
   "cell_type": "code",
   "execution_count": 6,
   "metadata": {
    "hidden": true,
    "hideCode": false,
    "hidePrompt": false
   },
   "outputs": [
    {
     "data": {
      "image/png": "[encoded data removed]",
      "text/plain": [
       "Figure(PyObject <Figure size 500x250 with 1 Axes>)"
      ]
     },
     "metadata": {},
     "output_type": "display_data"
    }
   ],
   "source": [
    "points = gt.discretize(f, 0, pi, 25, 1/8)\n",
    "plot1(points)"
   ]
  },
  {
   "cell_type": "markdown",
   "metadata": {
    "hidden": true,
    "hideCode": false,
    "hidePrompt": false
   },
   "source": [
    "If we want to center that spacing we give `central=true`:"
   ]
  },
  {
   "cell_type": "code",
   "execution_count": 7,
   "metadata": {
    "hidden": true,
    "hideCode": false,
    "hidePrompt": false
   },
   "outputs": [
    {
     "data": {
      "image/png": "[encoded data removed]",
      "text/plain": [
       "Figure(PyObject <Figure size 500x250 with 1 Axes>)"
      ]
     },
     "metadata": {},
     "output_type": "display_data"
    }
   ],
   "source": [
    "points = gt.discretize(f, 0, pi, 25, 1/8; central=true)\n",
    "plot1(points)"
   ]
  },
  {
   "cell_type": "code",
   "execution_count": 8,
   "metadata": {
    "hidden": true,
    "hideCode": false,
    "hidePrompt": false
   },
   "outputs": [
    {
     "data": {
      "image/png": "[encoded data removed]",
      "text/plain": [
       "Figure(PyObject <Figure size 500x250 with 1 Axes>)"
      ]
     },
     "metadata": {},
     "output_type": "display_data"
    }
   ],
   "source": [
    "points = gt.discretize(f, 0, pi, 25, 8.0; central=true)\n",
    "plot1(points)"
   ]
  },
  {
   "cell_type": "markdown",
   "metadata": {
    "hidden": true,
    "hideCode": false,
    "hidePrompt": false
   },
   "source": [
    "In order to define multiple sections of refinement, the function `multidiscretize` can be used:"
   ]
  },
  {
   "cell_type": "code",
   "execution_count": 9,
   "metadata": {
    "hidden": true,
    "hideCode": false,
    "hidePrompt": false
   },
   "outputs": [
    {
     "data": {
      "text/markdown": [
       "`multidiscretize(f, xlow, xhigh, sections)`\n",
       "\n",
       "Discretizes the continuous function `f` between the range `xlow` and `xhigh` into multiple sections of refinement as specified in `sections`.\n",
       "\n",
       "** Arguments **\n",
       "\n",
       "  * `f`         : Continuous function of the form `f(x)` to be discretized               between `xlow` and `xhigh`,\n",
       "  * `xlow`      : Lower bound.\n",
       "  * `xhigh`     : Upper bound.\n",
       "  * `sections`  : Array `[sec1, sec2, ...]`specifying the               sections of discretization in the format               `sec = (c::Float64, n::Int64, r::Float64, central::Bool)`,               with `c` the normalized length of this section (the sum of all               c must equal one), `n` the number of intervals in this section               , `r` the increment ratio between first and last interval if               `central=false` or between first and central interval if               `central=true`.\n",
       "\n",
       "**Examples**\n",
       "\n",
       "The following lines show the discretization of a semi-circumference perimeter   into 90 intervals done in three sections of discretization:\n",
       "\n",
       "`julia     julia> f(theta) = (cos(theta), sin(theta), 0)     julia> sec = (1/3, 30, 1/8, true)     julia> points = multidiscretize(f, 0, pi, [sec, sec, sec])`\n"
      ],
      "text/plain": [
       "  \u001b[36mmultidiscretize(f, xlow, xhigh, sections)\u001b[39m\n",
       "\n",
       "  Discretizes the continuous function \u001b[36mf\u001b[39m between the range \u001b[36mxlow\u001b[39m and \u001b[36mxhigh\u001b[39m into\n",
       "  multiple sections of refinement as specified in \u001b[36msections\u001b[39m.\n",
       "\n",
       "  ** Arguments **\n",
       "\n",
       "    •    \u001b[36mf\u001b[39m : Continuous function of the form \u001b[36mf(x)\u001b[39m to be discretized between\n",
       "        \u001b[36mxlow\u001b[39m and \u001b[36mxhigh\u001b[39m,\n",
       "\n",
       "    •    \u001b[36mxlow\u001b[39m : Lower bound.\n",
       "\n",
       "    •    \u001b[36mxhigh\u001b[39m : Upper bound.\n",
       "\n",
       "    •    \u001b[36msections\u001b[39m : Array \u001b[36m[sec1, sec2, ...]\u001b[39mspecifying the sections of\n",
       "        discretization in the format \u001b[36msec = (c::Float64, n::Int64,\n",
       "        r::Float64, central::Bool)\u001b[39m, with \u001b[36mc\u001b[39m the normalized length of this\n",
       "        section (the sum of all c must equal one), \u001b[36mn\u001b[39m the number of\n",
       "        intervals in this section , \u001b[36mr\u001b[39m the increment ratio between first\n",
       "        and last interval if \u001b[36mcentral=false\u001b[39m or between first and central\n",
       "        interval if \u001b[36mcentral=true\u001b[39m.\n",
       "\n",
       "  \u001b[1mExamples\u001b[22m\n",
       "\n",
       "  The following lines show the discretization of a semi-circumference\n",
       "  perimeter into 90 intervals done in three sections of discretization:\n",
       "\n",
       "  \u001b[36mjulia     julia> f(theta) = (cos(theta), sin(theta), 0)     julia> sec =\n",
       "  (1/3, 30, 1/8, true)     julia> points = multidiscretize(f, 0, pi, [sec,\n",
       "  sec, sec])\u001b[39m"
      ]
     },
     "execution_count": 9,
     "metadata": {},
     "output_type": "execute_result"
    }
   ],
   "source": [
    "?gt.multidiscretize"
   ]
  },
  {
   "cell_type": "markdown",
   "metadata": {
    "hidden": true,
    "hideCode": false,
    "hidePrompt": false
   },
   "source": [
    "Here we will discretize the semi-circle in three different sections of refinement:"
   ]
  },
  {
   "cell_type": "code",
   "execution_count": 10,
   "metadata": {
    "hidden": true,
    "hideCode": false,
    "hidePrompt": false
   },
   "outputs": [
    {
     "data": {
      "image/png": "[encoded data removed]",
      "text/plain": [
       "Figure(PyObject <Figure size 500x250 with 1 Axes>)"
      ]
     },
     "metadata": {},
     "output_type": "display_data"
    }
   ],
   "source": [
    "sec = (1/3, 12, 1/8, true)\n",
    "points = gt.multidiscretize(f, 0, pi, [sec, sec, sec])\n",
    "\n",
    "plot1(points)"
   ]
  },
  {
   "cell_type": "markdown",
   "metadata": {
    "hidden": true,
    "hideCode": false,
    "hidePrompt": false
   },
   "source": [
    "Let's verify that the are returned in the right order:"
   ]
  },
  {
   "cell_type": "code",
   "execution_count": 11,
   "metadata": {
    "hidden": true,
    "hideCode": false,
    "hidePrompt": false
   },
   "outputs": [
    {
     "data": {
      "image/png": "[encoded data removed]",
      "text/plain": [
       "Figure(PyObject <Figure size 500x250 with 1 Axes>)"
      ]
     },
     "metadata": {},
     "output_type": "display_data"
    }
   ],
   "source": [
    "sec = (1/3, 6, 1/8, true)\n",
    "points = gt.multidiscretize(f, 0, pi, [sec, sec, sec])\n",
    "\n",
    "plot1(points)\n",
    "\n",
    "# Numbering\n",
    "for (i,(x,y,z)) in enumerate(points)\n",
    "    annotate(\"$i\", xy=(x,y), xytext=(x,y))\n",
    "end"
   ]
  },
  {
   "cell_type": "markdown",
   "metadata": {
    "heading_collapsed": true,
    "hidden": true,
    "hideCode": false,
    "hidePrompt": false
   },
   "source": [
    "## Meshing"
   ]
  },
  {
   "cell_type": "markdown",
   "metadata": {
    "hidden": true,
    "hideCode": false,
    "hidePrompt": false
   },
   "source": [
    "In order to exemplify how to mesh on a surface, we will show the example of a helicoidal surface. First, outer and inner edges are defined analytically:"
   ]
  },
  {
   "cell_type": "code",
   "execution_count": 2,
   "metadata": {
    "hidden": true,
    "hideCode": false,
    "hidePrompt": false
   },
   "outputs": [
    {
     "ename": "PyCall.PyError",
     "evalue": "PyError ($(Expr(:escape, :(ccall(#= /home/taylor/.julia/packages/PyCall/rUul9/src/pyfncall.jl:44 =# @pysym(:PyObject_Call), PyPtr, (PyPtr, PyPtr, PyPtr), o, pyargsptr, kw))))) <class 'ValueError'>\nValueError(\"Unknown projection '3d'\")\n  File \"/home/taylor/.julia/packages/Conda/hsaaN/deps/usr/lib/python3.7/site-packages/matplotlib/pyplot.py\", line 934, in gca\n    return gcf().gca(**kwargs)\n  File \"/home/taylor/.julia/packages/Conda/hsaaN/deps/usr/lib/python3.7/site-packages/matplotlib/figure.py\", line 1866, in gca\n    return self.add_subplot(1, 1, 1, **kwargs)\n  File \"/home/taylor/.julia/packages/Conda/hsaaN/deps/usr/lib/python3.7/site-packages/matplotlib/figure.py\", line 1352, in add_subplot\n    self, *args, **kwargs)\n  File \"/home/taylor/.julia/packages/Conda/hsaaN/deps/usr/lib/python3.7/site-packages/matplotlib/projections/__init__.py\", line 81, in process_projection_requirements\n    projection_class = get_projection_class(projection)\n  File \"/home/taylor/.julia/packages/Conda/hsaaN/deps/usr/lib/python3.7/site-packages/matplotlib/projections/__init__.py\", line 60, in get_projection_class\n    raise ValueError(\"Unknown projection %r\" % projection)\n",
     "output_type": "error",
     "traceback": [
      "PyError ($(Expr(:escape, :(ccall(#= /home/taylor/.julia/packages/PyCall/rUul9/src/pyfncall.jl:44 =# @pysym(:PyObject_Call), PyPtr, (PyPtr, PyPtr, PyPtr), o, pyargsptr, kw))))) <class 'ValueError'>\nValueError(\"Unknown projection '3d'\")\n  File \"/home/taylor/.julia/packages/Conda/hsaaN/deps/usr/lib/python3.7/site-packages/matplotlib/pyplot.py\", line 934, in gca\n    return gcf().gca(**kwargs)\n  File \"/home/taylor/.julia/packages/Conda/hsaaN/deps/usr/lib/python3.7/site-packages/matplotlib/figure.py\", line 1866, in gca\n    return self.add_subplot(1, 1, 1, **kwargs)\n  File \"/home/taylor/.julia/packages/Conda/hsaaN/deps/usr/lib/python3.7/site-packages/matplotlib/figure.py\", line 1352, in add_subplot\n    self, *args, **kwargs)\n  File \"/home/taylor/.julia/packages/Conda/hsaaN/deps/usr/lib/python3.7/site-packages/matplotlib/projections/__init__.py\", line 81, in process_projection_requirements\n    projection_class = get_projection_class(projection)\n  File \"/home/taylor/.julia/packages/Conda/hsaaN/deps/usr/lib/python3.7/site-packages/matplotlib/projections/__init__.py\", line 60, in get_projection_class\n    raise ValueError(\"Unknown projection %r\" % projection)\n",
      "",
      "Stacktrace:",
      " [1] pyerr_check at /home/taylor/.julia/packages/PyCall/rUul9/src/exception.jl:60 [inlined]",
      " [2] pyerr_check at /home/taylor/.julia/packages/PyCall/rUul9/src/exception.jl:64 [inlined]",
      " [3] macro expansion at /home/taylor/.julia/packages/PyCall/rUul9/src/exception.jl:84 [inlined]",
      " [4] __pycall!(::PyCall.PyObject, ::Ptr{PyCall.PyObject_struct}, ::PyCall.PyObject, ::PyCall.PyObject) at /home/taylor/.julia/packages/PyCall/rUul9/src/pyfncall.jl:44",
      " [5] _pycall!(::PyCall.PyObject, ::PyCall.PyObject, ::Tuple{}, ::Int64, ::PyCall.PyObject) at /home/taylor/.julia/packages/PyCall/rUul9/src/pyfncall.jl:22",
      " [6] _pycall!(::PyCall.PyObject, ::PyCall.PyObject, ::Tuple{}, ::Base.Iterators.Pairs{Symbol,String,Tuple{Symbol},NamedTuple{(:projection,),Tuple{String}}}) at /home/taylor/.julia/packages/PyCall/rUul9/src/pyfncall.jl:11",
      " [7] #pycall#88 at /home/taylor/.julia/packages/PyCall/rUul9/src/pyfncall.jl:86 [inlined]",
      " [8] #pycall at ./none:0 [inlined]",
      " [9] #gca#51(::Base.Iterators.Pairs{Symbol,String,Tuple{Symbol},NamedTuple{(:projection,),Tuple{String}}}, ::Function) at /home/taylor/.julia/packages/PyPlot/fZuOQ/src/PyPlot.jl:179",
      " [10] #gca at ./none:0 [inlined]",
      " [11] #plot2#3(::String, ::String, ::Function, ::Array{Any,1}) at ./In[2]:16",
      " [12] (::getfield(Main, Symbol(\"#kw##plot2\")))(::NamedTuple{(:label,),Tuple{String}}, ::typeof(plot2), ::Array{Any,1}) at ./none:0",
      " [13] top-level scope at In[2]:24"
     ]
    }
   ],
   "source": [
    "# Helicoid function\n",
    "rho,k = 1,1\n",
    "f(z) = [rho*cos(k*z), rho*sin(k*z), z]\n",
    "\n",
    "# Discretize\n",
    "points1 = gt.discretize(f, 0, 3*2*pi, 100, 1.0)\n",
    "rho = rho/4\n",
    "points2 = gt.discretize(f, 0, 3*2*pi, 100, 1.0)\n",
    "\n",
    "function plot2(points; label=\"\", style=\"--.k\")\n",
    "    x = [p[1] for p in points]\n",
    "    y = [p[2] for p in points]\n",
    "    z = [p[3] for p in points]\n",
    "\n",
    "    fig = figure(\"\", figsize=(7,5))\n",
    "    ax = gca(projection=\"3d\")\n",
    "    plot(x,y,z, style, label=label)\n",
    "    xlim([-1, 1]*1.5)\n",
    "    ylim([-1, 1]*1.5)\n",
    "    if label!=\"\"\n",
    "        legend(loc=\"best\")\n",
    "    end\n",
    "end\n",
    "\n",
    "plot2(points1; label=\"Outside edge\")\n",
    "plot2(points2; label=\"Inside edge\", style=\"--.r\");"
   ]
  },
  {
   "cell_type": "code",
   "execution_count": 3,
   "metadata": {
    "hidden": true,
    "hideCode": false,
    "hidePrompt": false
   },
   "outputs": [
    {
     "data": {
      "text/markdown": [
       "`lines2vtkcells(line1::Array{Array{Float64,1}},line2::Array{Array{Float64,1}};                     point_data1, point_data2)`\n",
       "\n",
       "Given two lines with the same amount of points, it generate cells in VTK format by matching the points between lines. For instance:\n",
       "\n",
       "`julia   julia> line1 = [p11,p12,p13]   julia> line2 = [p21,p22,p23]   julia> lines2vtkcells(line1, line2)   (points, vtk_cells, point_data)` where `points=[p11,p12,p13,p21,p22,p23]`, and `vtk_cells=[[0,1,4,3],[1,2,5,4]]`.\n",
       "\n",
       "Give it point data corresponding to points in each line through `point_data1` and `point_data2`, and it return it through `point_data` formatted for `generateVTK`'s `point_data` input.\n",
       "\n",
       "Prefer this method over `generateCells()` since it will store the data efficiently when generating the VTK.\n"
      ],
      "text/plain": [
       "  \u001b[36mlines2vtkcells(line1::Array{Array{Float64,1}},line2::Array{Array{Float64,1}};\n",
       "                      point_data1, point_data2)\u001b[39m\n",
       "\n",
       "  Given two lines with the same amount of points, it generate cells in VTK\n",
       "  format by matching the points between lines. For instance:\n",
       "\n",
       "  \u001b[36mjulia   julia> line1 = [p11,p12,p13]   julia> line2 = [p21,p22,p23]   julia>\n",
       "  lines2vtkcells(line1, line2)   (points, vtk_cells, point_data)\u001b[39m where\n",
       "  \u001b[36mpoints=[p11,p12,p13,p21,p22,p23]\u001b[39m, and \u001b[36mvtk_cells=[[0,1,4,3],[1,2,5,4]]\u001b[39m.\n",
       "\n",
       "  Give it point data corresponding to points in each line through \u001b[36mpoint_data1\u001b[39m\n",
       "  and \u001b[36mpoint_data2\u001b[39m, and it return it through \u001b[36mpoint_data\u001b[39m formatted for\n",
       "  \u001b[36mgenerateVTK\u001b[39m's \u001b[36mpoint_data\u001b[39m input.\n",
       "\n",
       "  Prefer this method over \u001b[36mgenerateCells()\u001b[39m since it will store the data\n",
       "  efficiently when generating the VTK."
      ]
     },
     "execution_count": 3,
     "metadata": {},
     "output_type": "execute_result"
    }
   ],
   "source": [
    "?gt.lines2vtkcells"
   ]
  },
  {
   "cell_type": "markdown",
   "metadata": {
    "hidden": true,
    "hideCode": false,
    "hidePrompt": false
   },
   "source": [
    "The entire case can is found in `parametric_mesh()` under `examples.jl`, resulting in the following geometry:\n",
    "\n",
    "<img src=\"img/helicoid00.png\" alt=\"Pic here\" style=\"width: 600px;\"/>\n",
    "\n",
    "Run the following cell to generate and visualize the mesh in Paraview:"
   ]
  },
  {
   "cell_type": "code",
   "execution_count": 4,
   "metadata": {
    "hidden": true,
    "hideCode": false,
    "hidePrompt": false
   },
   "outputs": [
    {
     "data": {
      "text/plain": [
       "Process(`\u001b[4mrm\u001b[24m \u001b[4m-f\u001b[24m \u001b[4mtemp_mesh_example.vtk\u001b[24m`, ProcessExited(0))"
      ]
     },
     "execution_count": 4,
     "metadata": {},
     "output_type": "execute_result"
    }
   ],
   "source": [
    "examples.parametric_mesh(; prompt=false)"
   ]
  },
  {
   "cell_type": "markdown",
   "metadata": {
    "hidden": true,
    "hideCode": false,
    "hidePrompt": false
   },
   "source": [
    "And `parametric_mesh2()` adds divisions in between outer and inner edges:\n",
    "\n",
    "<img src=\"img/helicoid01.png\" alt=\"Pic here\" style=\"width: 600px;\"/>\n",
    "\n",
    "Run the following cell to generate and visualize the mesh in Paraview:"
   ]
  },
  {
   "cell_type": "code",
   "execution_count": 5,
   "metadata": {
    "hidden": true,
    "hideCode": false,
    "hidePrompt": false
   },
   "outputs": [
    {
     "data": {
      "text/markdown": [
       "`lines2vtkmulticells(line1, line2,                           sections::Array{Tuple{Float64,Int64,Float64,Bool},1},                           point_data1=nothing, point_data2=nothing)`\n",
       "\n",
       "Like `lines2vtkcells()` it generates cells between two lines, but allows to define multiple rows of cells in between. The rows are given by `sections`, which is the same variable `sections` defined in `VTKtools_geometry.jl`'s `multidiscretize()` function, which divides the space in between the lines. For more details see docstring of `lines2vtkcells()` and `multidiscretize()`.\n"
      ],
      "text/plain": [
       "  \u001b[36mlines2vtkmulticells(line1, line2,                          \n",
       "  sections::Array{Tuple{Float64,Int64,Float64,Bool},1},                       \n",
       "     point_data1=nothing, point_data2=nothing)\u001b[39m\n",
       "\n",
       "  Like \u001b[36mlines2vtkcells()\u001b[39m it generates cells between two lines, but allows to\n",
       "  define multiple rows of cells in between. The rows are given by \u001b[36msections\u001b[39m,\n",
       "  which is the same variable \u001b[36msections\u001b[39m defined in \u001b[36mVTKtools_geometry.jl\u001b[39m's\n",
       "  \u001b[36mmultidiscretize()\u001b[39m function, which divides the space in between the lines.\n",
       "  For more details see docstring of \u001b[36mlines2vtkcells()\u001b[39m and \u001b[36mmultidiscretize()\u001b[39m."
      ]
     },
     "execution_count": 5,
     "metadata": {},
     "output_type": "execute_result"
    }
   ],
   "source": [
    "?gt.lines2vtkmulticells"
   ]
  },
  {
   "cell_type": "code",
   "execution_count": 2,
   "metadata": {
    "hidden": true,
    "hideCode": false,
    "hidePrompt": false
   },
   "outputs": [
    {
     "data": {
      "text/plain": [
       "Process(`\u001b[4mrm\u001b[24m \u001b[4m-f\u001b[24m \u001b[4mtemp_mesh_example2.vtk\u001b[24m`, ProcessExited(0))"
      ]
     },
     "execution_count": 2,
     "metadata": {},
     "output_type": "execute_result"
    }
   ],
   "source": [
    "examples.parametric_mesh2(; prompt=false)"
   ]
  },
  {
   "cell_type": "markdown",
   "metadata": {
    "heading_collapsed": true,
    "hidden": true,
    "hideCode": false,
    "hidePrompt": false
   },
   "source": [
    "## Parametrization"
   ]
  },
  {
   "cell_type": "markdown",
   "metadata": {
    "heading_collapsed": true,
    "hidden": true,
    "hideCode": false,
    "hidePrompt": false
   },
   "source": [
    "### 2D Case - Semicircle"
   ]
  },
  {
   "cell_type": "markdown",
   "metadata": {
    "hidden": true,
    "hideCode": false,
    "hidePrompt": false
   },
   "source": [
    "Given a set of 2D points $X = \\{(x,y)\\}$ that define a discretized 2D contour, the contour will be parametrized using the path of the contour. First, the contour is splined defining the function $f$ such that $X$ becomes $X = \\{(x, f(x))\\}$. The path $\\Delta s$ between $(x,\\mathop{}f(x))$ and $(x+\\Delta x, \\mathop{}f(x+\\Delta x))$  is \n",
    "\n",
    "\\begin{align}\n",
    "        \\Delta s(x, \\Delta x) & = \\sqrt{ (\\Delta x)^2 + (f(x+\\Delta x) - f(x))^2 }\n",
    "    \\\\\n",
    "        & = \\sqrt{ 1 + \\Big(\\frac{f(x+\\Delta x) - f(x)}{\\Delta x}\\Big)^2 } (\\Delta x)\n",
    ".\\end{align}\n",
    "\n",
    "In the limit $\\Delta x\\rightarrow 0$, \n",
    "\n",
    "\\begin{align}\n",
    "        \\text{d} s (x) & = \n",
    "            \\sqrt{ 1 + \\Big(\\frac{\\text{d} f}{\\text{d} x}(x)\\Big)^2 } \\text{d} x\n",
    ";\\end{align}\n",
    "\n",
    "hence, the path $s$ from $(x_\\text{min}, f(x_\\text{min}))$ to an arbitrary point $(x, f(x))$ is calculated as\n",
    "\n",
    "\\begin{align}\n",
    "    s(x) = \\int\\limits_{x_\\text{min}}^{x} \n",
    "            \\sqrt{ 1 + \\Big(\\frac{\\text{d} f}{\\text{d} x}(x^\\prime)\\Big)^2 } \n",
    "                            \\text{d} x^\\prime\n",
    "\\end{align}"
   ]
  },
  {
   "cell_type": "markdown",
   "metadata": {
    "hidden": true,
    "hideCode": false,
    "hidePrompt": false
   },
   "source": [
    "For instance, lets show the path of the semi-circle used above, where the analytical circunference is originally discretized in $x$ instead of $\\theta$, making non-evenly spaced discretization. The code below shows the spline (function $f(x)$) through the points resulting from the discretization, and the path function $s(x)$ is defined:"
   ]
  },
  {
   "cell_type": "code",
   "execution_count": 5,
   "metadata": {
    "hidden": true,
    "hideCode": false,
    "hidePrompt": false
   },
   "outputs": [
    {
     "data": {
      "image/png": "[encoded data removed]",
      "text/plain": [
       "Figure(PyObject <Figure size 500x250 with 1 Axes>)"
      ]
     },
     "metadata": {},
     "output_type": "display_data"
    },
    {
     "name": "stdout",
     "output_type": "stream",
     "text": [
      "Path length between xmin=-1 and x=1: 3.136808464134872\n",
      "Expected value: π = 3.1415926535897...\n"
     ]
    }
   ],
   "source": [
    "# Semi-circunference parameterized about x\n",
    "f(x) = (x, sqrt(1-round(x, digits=8)^2), 0)\n",
    "\n",
    "# Discretize into points non-evenly spaced\n",
    "points = gt.discretize(f, -1, 1, 25, 1.0)\n",
    "\n",
    "# Plot\n",
    "function plot3(points; label=\"\", style=\"--.k\")\n",
    "    x = [p[1] for p in points]\n",
    "    y = [p[2] for p in points]\n",
    "    z = [p[3] for p in points]\n",
    "\n",
    "    fig = figure(\"\", figsize=(5,2.5))\n",
    "    plot(x,y, style, label=label)\n",
    "    xlim([-1, 1]*1.1)\n",
    "    ylim([0, 1]*1.1)\n",
    "    grid(true, color=\"0.8\", linestyle=\"--\")\n",
    "    if label!=\"\"; legend(loc=\"best\"); end;\n",
    "end\n",
    "\n",
    "plot3(points; label=\"Original\", style=\".k\")\n",
    "\n",
    "# Fitting a spline through the points\n",
    "x = [point[1] for point in points]\n",
    "y = [point[2] for point in points]\n",
    "bc=\"extrapolate\"                 # Out of boundary case\n",
    "s=0.0001                   # Spline smoothness\n",
    "k = min(size(x)[1]-1, 3)   # Spline order\n",
    "spl = gt.Dierckx.Spline1D(x, y; k=k, bc=bc, s=s)\n",
    "\n",
    "# Plots the spline\n",
    "points2 = [(xi, spl(xi), 0) for xi in -1:0.005:1]\n",
    "plot3(points2; label=\"Spline\", style=\"-r\")\n",
    "\n",
    "# Defines the path function\n",
    "dfdx(x) = gt.Dierckx.derivative(spl, x)        # Derivative of f\n",
    "fun(x) = sqrt.(1+(dfdx(x)).^2)                  # Integrand\n",
    "fun_s(this_x) = quadgk(fun, x[1], this_x)[1]    # Integral between xmin and x\n",
    "\n",
    "# Verification: path at x=1 should be 3.1415926535897...\n",
    "println(\"Path length between xmin=-1 and x=1: $(fun_s(1.0))\")\n",
    "println(\"Expected value: $pi\")"
   ]
  },
  {
   "cell_type": "markdown",
   "metadata": {
    "hidden": true,
    "hideCode": false,
    "hidePrompt": false
   },
   "source": [
    "Now we will use the path function $s$ as a parametrization for re-discretizing the curve into evenly-spaced intervals. First, we normalize the path function as \n",
    "\n",
    "\\begin{align}\n",
    "    s^*(x) = \\frac{s(x)}{s_\\text{tot}}\n",
    ",\\end{align}\n",
    "\n",
    "with $s_\\text{tot} = s(x_\\text{max})$. Next we define the inverse function $s^{-1}(s) = x$, or the normalized inverse function $s^{-1*}(s^*) = s^{-1}(s_\\text{tot} s^*) = x$. Hence, $s^{-1*}$ receives any number between 0 and 1 representing the position along the path, and returns the value of $x$ that corresponds to that position. Implementing this numerically requires using a root finder as follows:"
   ]
  },
  {
   "cell_type": "code",
   "execution_count": 6,
   "metadata": {
    "hidden": true,
    "hideCode": false,
    "hidePrompt": false
   },
   "outputs": [
    {
     "name": "stdout",
     "output_type": "stream",
     "text": [
      "x for s*=0.5 (half way the path): -0.00048069199737853794\n",
      "Expected value: 0.0\n"
     ]
    }
   ],
   "source": [
    "stot = fun_s(x[end])      # Total length of the path\n",
    "norm_s(x) = fun_s(x)/stot # Normalized path function\n",
    "\n",
    "function inv_norm_s(sstar; debug=false)\n",
    "    # ERROR CASES\n",
    "    if sstar<-0.001 || sstar>1.001 # Outside of domain\n",
    "        error(\"Invalid normalized path length $(sstar) (sstar<0 || sstar>1)\")\n",
    "    end\n",
    "    \n",
    "    # Finds the x that matches the target (sstar)\n",
    "    this_fun(x) = sstar - norm_s(x)\n",
    "    bracket = [ x[1]*(1-0.01*sign(x[1])) , x[end]*(1+0.01*sign(x[end]))]\n",
    "    if debug\n",
    "        println(\"sstar=$sstar\\tbracket=$bracket\")\n",
    "        println(\"flow=$(this_fun(bracket[1]))\")\n",
    "        println(\"fup=$(this_fun(bracket[2]))\")\n",
    "    end\n",
    "    this_x = Roots.find_zero(this_fun, bracket, Roots.Bisection())\n",
    "    \n",
    "    return this_x\n",
    "end\n",
    "\n",
    "# Verification: x for s*=0.5 must equal 0\n",
    "println(\"x for s*=0.5 (half way the path): $(inv_norm_s(0.5))\")\n",
    "println(\"Expected value: 0.0\")"
   ]
  },
  {
   "cell_type": "markdown",
   "metadata": {
    "hidden": true,
    "hideCode": false,
    "hidePrompt": false
   },
   "source": [
    "Now we can use this new parameterization to re-discretize the curve into evenly-spaced intervals. First we redefine the original function $f$ as $f^*: [0,1]\\rightarrow \\mathbb{R}^3 \\mathop{/} f^*(s^*) = f(s^{-1*}(s^*))$, and then we discretize $s^*$ as we may in [0,1]:"
   ]
  },
  {
   "cell_type": "code",
   "execution_count": 7,
   "metadata": {
    "hidden": true,
    "hideCode": false,
    "hidePrompt": false
   },
   "outputs": [
    {
     "data": {
      "image/png": "[encoded data removed]",
      "text/plain": [
       "Figure(PyObject <Figure size 500x250 with 1 Axes>)"
      ]
     },
     "metadata": {},
     "output_type": "display_data"
    }
   ],
   "source": [
    "# Redefine the original function in terms of the new parametrization s*\n",
    "function fstar(sstar)\n",
    "    x = inv_norm_s(sstar)\n",
    "    return (x, spl(x), 0)\n",
    "end\n",
    "\n",
    "# Discretize into points evenly spaced\n",
    "points3 = gt.discretize(fstar, 0, 1, 25, 1.0)\n",
    "plot3(points; label=\"Original\", style=\".k\")\n",
    "plot3(points3; label=\"Parametrized\", style=\"^r\");"
   ]
  },
  {
   "cell_type": "markdown",
   "metadata": {
    "hidden": true,
    "hideCode": false,
    "hidePrompt": false
   },
   "source": [
    "And we get an evenly-spaced discretization. Also, we can use this new parametrization to re-discretizase the original curve as we please:"
   ]
  },
  {
   "cell_type": "code",
   "execution_count": 8,
   "metadata": {
    "hidden": true,
    "hideCode": false,
    "hidePrompt": false
   },
   "outputs": [
    {
     "data": {
      "image/png": "[encoded data removed]",
      "text/plain": [
       "Figure(PyObject <Figure size 500x250 with 1 Axes>)"
      ]
     },
     "metadata": {},
     "output_type": "display_data"
    }
   ],
   "source": [
    "# Finer discretization at the ends\n",
    "points4 = gt.discretize(fstar, 0, 1, 25, 8.0; central=true)\n",
    "plot3(points; label=\"Original\", style=\".k\")\n",
    "plot3(points4; label=\"Parametrized\", style=\"^r\");"
   ]
  },
  {
   "cell_type": "markdown",
   "metadata": {
    "heading_collapsed": true,
    "hidden": true,
    "hideCode": false,
    "hidePrompt": false
   },
   "source": [
    "### 3D Case - Helicoid"
   ]
  },
  {
   "cell_type": "markdown",
   "metadata": {
    "hidden": true,
    "hideCode": false,
    "hidePrompt": false
   },
   "source": [
    "This paramaetrization method for obtaining $f^*$ is implemented in `parameterize()`, which receives a 3D contour line and returns the function $f^*$:"
   ]
  },
  {
   "cell_type": "code",
   "execution_count": 9,
   "metadata": {
    "hidden": true,
    "hideCode": false,
    "hidePrompt": false
   },
   "outputs": [
    {
     "data": {
      "text/markdown": [
       "`parameterize(x, y, z; inj_var::Int64=1, s=0.0001, debug=false)`\n",
       "\n",
       "Receives a contour (line) and returns a parametrization function f(s) of the contour. The parametrization is done on the path of the splined contour such that f(0.5) returns the point (x,y,z) where half of the entire contour has been walked, and f(1.0) returns the last point in the contour. To perform this parametrization, the contour must be injective in least one of the variables (x, y, or z) (i.e., all values of the variable are unique), and that variable must be given in increasing order.\n",
       "\n",
       "**Arguments**\n",
       "\n",
       "  * `x::Array{Float64,1}`    : x-coordinates of the contour.\n",
       "  * `y::Array{Float64,1}`    : y-coordinates of the contour.\n",
       "  * `z::Array{Float64,1}`    : z-coordinates of the contour.\n",
       "\n",
       "**Optional Arguments**\n",
       "\n",
       "  * `inj_var::Int64`         : Indicates the variable that is injective, with                               1=x, 2=y, and 3=z.\n",
       "  * `s::Float64`             : Spline smoothness.\n",
       "\n",
       "See Parametrization section in documentation for more details.\n"
      ],
      "text/plain": [
       "  \u001b[36mparameterize(x, y, z; inj_var::Int64=1, s=0.0001, debug=false)\u001b[39m\n",
       "\n",
       "  Receives a contour (line) and returns a parametrization function f(s) of the\n",
       "  contour. The parametrization is done on the path of the splined contour such\n",
       "  that f(0.5) returns the point (x,y,z) where half of the entire contour has\n",
       "  been walked, and f(1.0) returns the last point in the contour. To perform\n",
       "  this parametrization, the contour must be injective in least one of the\n",
       "  variables (x, y, or z) (i.e., all values of the variable are unique), and\n",
       "  that variable must be given in increasing order.\n",
       "\n",
       "  \u001b[1mArguments\u001b[22m\n",
       "\n",
       "    •    \u001b[36mx::Array{Float64,1}\u001b[39m : x-coordinates of the contour.\n",
       "\n",
       "    •    \u001b[36my::Array{Float64,1}\u001b[39m : y-coordinates of the contour.\n",
       "\n",
       "    •    \u001b[36mz::Array{Float64,1}\u001b[39m : z-coordinates of the contour.\n",
       "\n",
       "  \u001b[1mOptional Arguments\u001b[22m\n",
       "\n",
       "    •    \u001b[36minj_var::Int64\u001b[39m : Indicates the variable that is injective, with\n",
       "        1=x, 2=y, and 3=z.\n",
       "\n",
       "    •    \u001b[36ms::Float64\u001b[39m : Spline smoothness.\n",
       "\n",
       "  See Parametrization section in documentation for more details."
      ]
     },
     "execution_count": 9,
     "metadata": {},
     "output_type": "execute_result"
    }
   ],
   "source": [
    "?gt.parameterize"
   ]
  },
  {
   "cell_type": "markdown",
   "metadata": {
    "hidden": true,
    "hideCode": false,
    "hidePrompt": false
   },
   "source": [
    "As an example, lets take a collection of points representing a helicoid as follows:"
   ]
  },
  {
   "cell_type": "code",
   "execution_count": 10,
   "metadata": {
    "hidden": true,
    "hideCode": false,
    "hidePrompt": false
   },
   "outputs": [
    {
     "ename": "PyCall.PyError",
     "evalue": "PyError ($(Expr(:escape, :(ccall(#= /home/taylor/.julia/packages/PyCall/rUul9/src/pyfncall.jl:44 =# @pysym(:PyObject_Call), PyPtr, (PyPtr, PyPtr, PyPtr), o, pyargsptr, kw))))) <class 'ValueError'>\nValueError(\"Unknown projection '3d'\")\n  File \"/home/taylor/.julia/packages/Conda/hsaaN/deps/usr/lib/python3.7/site-packages/matplotlib/pyplot.py\", line 934, in gca\n    return gcf().gca(**kwargs)\n  File \"/home/taylor/.julia/packages/Conda/hsaaN/deps/usr/lib/python3.7/site-packages/matplotlib/figure.py\", line 1866, in gca\n    return self.add_subplot(1, 1, 1, **kwargs)\n  File \"/home/taylor/.julia/packages/Conda/hsaaN/deps/usr/lib/python3.7/site-packages/matplotlib/figure.py\", line 1352, in add_subplot\n    self, *args, **kwargs)\n  File \"/home/taylor/.julia/packages/Conda/hsaaN/deps/usr/lib/python3.7/site-packages/matplotlib/projections/__init__.py\", line 81, in process_projection_requirements\n    projection_class = get_projection_class(projection)\n  File \"/home/taylor/.julia/packages/Conda/hsaaN/deps/usr/lib/python3.7/site-packages/matplotlib/projections/__init__.py\", line 60, in get_projection_class\n    raise ValueError(\"Unknown projection %r\" % projection)\n",
     "output_type": "error",
     "traceback": [
      "PyError ($(Expr(:escape, :(ccall(#= /home/taylor/.julia/packages/PyCall/rUul9/src/pyfncall.jl:44 =# @pysym(:PyObject_Call), PyPtr, (PyPtr, PyPtr, PyPtr), o, pyargsptr, kw))))) <class 'ValueError'>\nValueError(\"Unknown projection '3d'\")\n  File \"/home/taylor/.julia/packages/Conda/hsaaN/deps/usr/lib/python3.7/site-packages/matplotlib/pyplot.py\", line 934, in gca\n    return gcf().gca(**kwargs)\n  File \"/home/taylor/.julia/packages/Conda/hsaaN/deps/usr/lib/python3.7/site-packages/matplotlib/figure.py\", line 1866, in gca\n    return self.add_subplot(1, 1, 1, **kwargs)\n  File \"/home/taylor/.julia/packages/Conda/hsaaN/deps/usr/lib/python3.7/site-packages/matplotlib/figure.py\", line 1352, in add_subplot\n    self, *args, **kwargs)\n  File \"/home/taylor/.julia/packages/Conda/hsaaN/deps/usr/lib/python3.7/site-packages/matplotlib/projections/__init__.py\", line 81, in process_projection_requirements\n    projection_class = get_projection_class(projection)\n  File \"/home/taylor/.julia/packages/Conda/hsaaN/deps/usr/lib/python3.7/site-packages/matplotlib/projections/__init__.py\", line 60, in get_projection_class\n    raise ValueError(\"Unknown projection %r\" % projection)\n",
      "",
      "Stacktrace:",
      " [1] pyerr_check at /home/taylor/.julia/packages/PyCall/rUul9/src/exception.jl:60 [inlined]",
      " [2] pyerr_check at /home/taylor/.julia/packages/PyCall/rUul9/src/exception.jl:64 [inlined]",
      " [3] macro expansion at /home/taylor/.julia/packages/PyCall/rUul9/src/exception.jl:84 [inlined]",
      " [4] __pycall!(::PyCall.PyObject, ::Ptr{PyCall.PyObject_struct}, ::PyCall.PyObject, ::PyCall.PyObject) at /home/taylor/.julia/packages/PyCall/rUul9/src/pyfncall.jl:44",
      " [5] _pycall!(::PyCall.PyObject, ::PyCall.PyObject, ::Tuple{}, ::Int64, ::PyCall.PyObject) at /home/taylor/.julia/packages/PyCall/rUul9/src/pyfncall.jl:22",
      " [6] _pycall!(::PyCall.PyObject, ::PyCall.PyObject, ::Tuple{}, ::Base.Iterators.Pairs{Symbol,String,Tuple{Symbol},NamedTuple{(:projection,),Tuple{String}}}) at /home/taylor/.julia/packages/PyCall/rUul9/src/pyfncall.jl:11",
      " [7] #pycall#88 at /home/taylor/.julia/packages/PyCall/rUul9/src/pyfncall.jl:86 [inlined]",
      " [8] #pycall at ./none:0 [inlined]",
      " [9] #gca#51(::Base.Iterators.Pairs{Symbol,String,Tuple{Symbol},NamedTuple{(:projection,),Tuple{String}}}, ::Function) at /home/taylor/.julia/packages/PyPlot/fZuOQ/src/PyPlot.jl:179",
      " [10] #gca at ./none:0 [inlined]",
      " [11] #plot2#18(::String, ::String, ::Function, ::Array{Any,1}) at ./In[10]:14",
      " [12] plot2(::Array{Any,1}) at ./In[10]:9",
      " [13] top-level scope at In[10]:22"
     ]
    }
   ],
   "source": [
    "# Helicoid function\n",
    "rho,k = 1,1\n",
    "f(z) = [rho*cos(k*z), rho*sin(k*z), z]\n",
    "\n",
    "# Discretize\n",
    "points1 = gt.discretize(f, 0, 3*2*pi, 60, 1/100.0)\n",
    "\n",
    "function plot2(points; label=\"\", style=\"--.k\")\n",
    "    x = [p[1] for p in points]\n",
    "    y = [p[2] for p in points]\n",
    "    z = [p[3] for p in points]\n",
    "\n",
    "    fig = figure(\"\", figsize=(7,5))\n",
    "    ax = gca(projection=\"3d\")\n",
    "    plot(x,y,z, style, label=label)\n",
    "    xlim([-1, 1]*1.5)\n",
    "    ylim([-1, 1]*1.5)\n",
    "    if label!=\"\"\n",
    "        legend(loc=\"best\")\n",
    "    end\n",
    "end\n",
    "\n",
    "plot2(points1)"
   ]
  },
  {
   "cell_type": "markdown",
   "metadata": {
    "hidden": true,
    "hideCode": false,
    "hidePrompt": false
   },
   "source": [
    "This curve has been discretize with a large concetration of points in the upper part, and very sparse in the bottom. We can use `parameterize` to obtain the curve again and be able to re-discretize is as we please:"
   ]
  },
  {
   "cell_type": "code",
   "execution_count": 11,
   "metadata": {
    "hidden": true,
    "hideCode": false,
    "hidePrompt": false
   },
   "outputs": [
    {
     "ename": "PyCall.PyError",
     "evalue": "PyError ($(Expr(:escape, :(ccall(#= /home/taylor/.julia/packages/PyCall/rUul9/src/pyfncall.jl:44 =# @pysym(:PyObject_Call), PyPtr, (PyPtr, PyPtr, PyPtr), o, pyargsptr, kw))))) <class 'ValueError'>\nValueError(\"Unknown projection '3d'\")\n  File \"/home/taylor/.julia/packages/Conda/hsaaN/deps/usr/lib/python3.7/site-packages/matplotlib/pyplot.py\", line 934, in gca\n    return gcf().gca(**kwargs)\n  File \"/home/taylor/.julia/packages/Conda/hsaaN/deps/usr/lib/python3.7/site-packages/matplotlib/figure.py\", line 1866, in gca\n    return self.add_subplot(1, 1, 1, **kwargs)\n  File \"/home/taylor/.julia/packages/Conda/hsaaN/deps/usr/lib/python3.7/site-packages/matplotlib/figure.py\", line 1352, in add_subplot\n    self, *args, **kwargs)\n  File \"/home/taylor/.julia/packages/Conda/hsaaN/deps/usr/lib/python3.7/site-packages/matplotlib/projections/__init__.py\", line 81, in process_projection_requirements\n    projection_class = get_projection_class(projection)\n  File \"/home/taylor/.julia/packages/Conda/hsaaN/deps/usr/lib/python3.7/site-packages/matplotlib/projections/__init__.py\", line 60, in get_projection_class\n    raise ValueError(\"Unknown projection %r\" % projection)\n",
     "output_type": "error",
     "traceback": [
      "PyError ($(Expr(:escape, :(ccall(#= /home/taylor/.julia/packages/PyCall/rUul9/src/pyfncall.jl:44 =# @pysym(:PyObject_Call), PyPtr, (PyPtr, PyPtr, PyPtr), o, pyargsptr, kw))))) <class 'ValueError'>\nValueError(\"Unknown projection '3d'\")\n  File \"/home/taylor/.julia/packages/Conda/hsaaN/deps/usr/lib/python3.7/site-packages/matplotlib/pyplot.py\", line 934, in gca\n    return gcf().gca(**kwargs)\n  File \"/home/taylor/.julia/packages/Conda/hsaaN/deps/usr/lib/python3.7/site-packages/matplotlib/figure.py\", line 1866, in gca\n    return self.add_subplot(1, 1, 1, **kwargs)\n  File \"/home/taylor/.julia/packages/Conda/hsaaN/deps/usr/lib/python3.7/site-packages/matplotlib/figure.py\", line 1352, in add_subplot\n    self, *args, **kwargs)\n  File \"/home/taylor/.julia/packages/Conda/hsaaN/deps/usr/lib/python3.7/site-packages/matplotlib/projections/__init__.py\", line 81, in process_projection_requirements\n    projection_class = get_projection_class(projection)\n  File \"/home/taylor/.julia/packages/Conda/hsaaN/deps/usr/lib/python3.7/site-packages/matplotlib/projections/__init__.py\", line 60, in get_projection_class\n    raise ValueError(\"Unknown projection %r\" % projection)\n",
      "",
      "Stacktrace:",
      " [1] pyerr_check at /home/taylor/.julia/packages/PyCall/rUul9/src/exception.jl:60 [inlined]",
      " [2] pyerr_check at /home/taylor/.julia/packages/PyCall/rUul9/src/exception.jl:64 [inlined]",
      " [3] macro expansion at /home/taylor/.julia/packages/PyCall/rUul9/src/exception.jl:84 [inlined]",
      " [4] __pycall!(::PyCall.PyObject, ::Ptr{PyCall.PyObject_struct}, ::PyCall.PyObject, ::PyCall.PyObject) at /home/taylor/.julia/packages/PyCall/rUul9/src/pyfncall.jl:44",
      " [5] _pycall!(::PyCall.PyObject, ::PyCall.PyObject, ::Tuple{}, ::Int64, ::PyCall.PyObject) at /home/taylor/.julia/packages/PyCall/rUul9/src/pyfncall.jl:22",
      " [6] _pycall!(::PyCall.PyObject, ::PyCall.PyObject, ::Tuple{}, ::Base.Iterators.Pairs{Symbol,String,Tuple{Symbol},NamedTuple{(:projection,),Tuple{String}}}) at /home/taylor/.julia/packages/PyCall/rUul9/src/pyfncall.jl:11",
      " [7] #pycall#88 at /home/taylor/.julia/packages/PyCall/rUul9/src/pyfncall.jl:86 [inlined]",
      " [8] #pycall at ./none:0 [inlined]",
      " [9] #gca#51(::Base.Iterators.Pairs{Symbol,String,Tuple{Symbol},NamedTuple{(:projection,),Tuple{String}}}, ::Function) at /home/taylor/.julia/packages/PyPlot/fZuOQ/src/PyPlot.jl:179",
      " [10] #gca at ./none:0 [inlined]",
      " [11] #plot2#18(::String, ::String, ::Function, ::Array{Any,1}) at ./In[10]:14",
      " [12] (::getfield(Main, Symbol(\"#kw##plot2\")))(::NamedTuple{(:style, :label),Tuple{String,String}}, ::typeof(plot2), ::Array{Any,1}) at ./none:0",
      " [13] top-level scope at In[11]:12"
     ]
    }
   ],
   "source": [
    "# Splits the points into x,y,z\n",
    "x = [p[1] for p in points1]\n",
    "y = [p[2] for p in points1]\n",
    "z = [p[3] for p in points1]\n",
    "\n",
    "# Parametrization function f*\n",
    "this_fstar = gt.parameterize(x,y,z; inj_var=3)\n",
    "# Note: In this case the injective variable is z, hence inj_var=3\n",
    "\n",
    "# Discretize f* evenly-spaced\n",
    "points2 = gt.discretize(this_fstar, 0, 1, 50, 1.0)\n",
    "\n",
    "plot2(points2; style=\"^r\", label=\"Parameterized\")\n",
    "plot2(points1; style=\"--.k\", label=\"Original\");"
   ]
  },
  {
   "cell_type": "markdown",
   "metadata": {
    "heading_collapsed": true,
    "hidden": true,
    "hideCode": false,
    "hidePrompt": false
   },
   "source": [
    "### Arbitrary geometry - Airfoil"
   ]
  },
  {
   "cell_type": "markdown",
   "metadata": {
    "hidden": true,
    "hideCode": false,
    "hidePrompt": false
   },
   "source": [
    "Why is this useful?? Let's show an application of this on an airfoil."
   ]
  },
  {
   "cell_type": "code",
   "execution_count": 12,
   "metadata": {
    "hidden": true,
    "hideCode": false,
    "hidePrompt": false
   },
   "outputs": [
    {
     "data": {
      "image/png": "[encoded data removed]",
      "text/plain": [
       "Figure(PyObject <Figure size 1050x250 with 1 Axes>)"
      ]
     },
     "metadata": {},
     "output_type": "display_data"
    }
   ],
   "source": [
    "x,y = examples.readcontour(joinpath(data_path, \"S809.txt\"); header_len=2)\n",
    "examples.plot_airfoil(x,y; style=\"--.k\")"
   ]
  },
  {
   "cell_type": "markdown",
   "metadata": {
    "hidden": true,
    "hideCode": false,
    "hidePrompt": false
   },
   "source": [
    "We can use those parametrization and discretization methods for redoing the sectioning of the airfoil in a more refined, evenly-spaced discretization:"
   ]
  },
  {
   "cell_type": "code",
   "execution_count": 15,
   "metadata": {
    "hidden": true,
    "hideCode": false,
    "hidePrompt": false
   },
   "outputs": [
    {
     "data": {
      "image/png": "[encoded data removed]",
      "text/plain": [
       "Figure(PyObject <Figure size 1050x250 with 1 Axes>)"
      ]
     },
     "metadata": {},
     "output_type": "display_data"
    }
   ],
   "source": [
    "# Separate upper and lower surfaces to make the contour injective in x\n",
    "upper, lower = examples.splitcontour(x,y)\n",
    "\n",
    "# Parameterize both surfaces independently\n",
    "fun_upper = gt.parameterize(upper[1], upper[2], fill!(similar(upper[1]), 0); inj_var=1)\n",
    "fun_lower = gt.parameterize(lower[1], lower[2], fill!(similar(lower[1]), 0); inj_var=1)\n",
    "\n",
    "# New discretization for both surfaces\n",
    "upper_points = gt.discretize(fun_upper, 0, 1, 50, 1.0)\n",
    "lower_points = gt.discretize(fun_lower, 0, 1, 50, 1.0)\n",
    "\n",
    "# Put both surfaces back together from TE over the top and from LE over the bottom.\n",
    "reverse!(upper_points)                           # Trailing edge over the top\n",
    "new_x = [point[1] for point in upper_points]\n",
    "new_y = [point[2] for point in upper_points]     # Leading edge over the bottom\n",
    "new_x = vcat(new_x, [point[1] for point in lower_points])\n",
    "new_y = vcat(new_y, [point[2] for point in lower_points])\n",
    "\n",
    "examples.plot_airfoil(new_x, new_y; style=\"^r\", label=\"Parameterized\")\n",
    "examples.plot_airfoil(x,y; style=\"--.k\", label=\"Original\")\n",
    "legend(loc=\"best\");"
   ]
  },
  {
   "cell_type": "markdown",
   "metadata": {
    "hidden": true,
    "hideCode": false,
    "hidePrompt": false
   },
   "source": [
    "Or maybe we want to refine leading and trailing edges, along the apex:"
   ]
  },
  {
   "cell_type": "code",
   "execution_count": 16,
   "metadata": {
    "hidden": true,
    "hideCode": false,
    "hidePrompt": false,
    "scrolled": true
   },
   "outputs": [
    {
     "data": {
      "image/png": "[encoded data removed]",
      "text/plain": [
       "Figure(PyObject <Figure size 1050x250 with 1 Axes>)"
      ]
     },
     "metadata": {},
     "output_type": "display_data"
    }
   ],
   "source": [
    "# Upper surface sections\n",
    "sec1 = (0.35, 20, 3.0, true) # 35% of the line has 20 sections in ratio 3.0 around center\n",
    "sec2 = (0.65, 33, 3.0, true) # 65% of the line has 33 sections in ratio 3.0 around center\n",
    "\n",
    "# New discretization for both surfaces\n",
    "upper_points = gt.multidiscretize(fun_upper, 0, 1, [sec1,sec2])\n",
    "lower_points = gt.discretize(fun_lower, 0, 1, 50, 8.0; central=true)\n",
    "\n",
    "# Put both surfaces back together from TE over the top and from LE over the bottom.\n",
    "reverse!(upper_points)                           # Trailing edge over the top\n",
    "new_x = [point[1] for point in upper_points]\n",
    "new_y = [point[2] for point in upper_points]     # Leading edge over the bottom\n",
    "new_x = vcat(new_x, [point[1] for point in lower_points])\n",
    "new_y = vcat(new_y, [point[2] for point in lower_points])\n",
    "\n",
    "examples.plot_airfoil(new_x, new_y; style=\"--^r\", label=\"Parameterized\");"
   ]
  },
  {
   "cell_type": "markdown",
   "metadata": {
    "heading_collapsed": true,
    "hidden": true,
    "hideCode": false,
    "hidePrompt": false
   },
   "source": [
    "## Example: Wing"
   ]
  },
  {
   "cell_type": "markdown",
   "metadata": {
    "hidden": true,
    "hideCode": false,
    "hidePrompt": false
   },
   "source": [
    "Now we will show how we can use parametrization + discretization + meshing to create a geometry. This example is on an airplane wing, but the same procedure can be follow for defining any surface of lofted cross sections.\n",
    "\n",
    "First, we take two airfoils as downloaded from airfoilstools.com, use `parametrize()` to parameterize their contours and `discretize()` to discretize with a finer sections towards both trailing and leading edge, and apex:"
   ]
  },
  {
   "cell_type": "code",
   "execution_count": 18,
   "metadata": {
    "hidden": true,
    "hideCode": false,
    "hidePrompt": false
   },
   "outputs": [
    {
     "name": "stdout",
     "output_type": "stream",
     "text": [
      "\n"
     ]
    }
   ],
   "source": [
    "\n",
    "# PARAMETERS\n",
    "n_up = 40             # Number of sections in upper surface of wing\n",
    "n_lower = 20          # Number of sections in lower surface of wing\n",
    "z1 = 0.0              # Position of first airfoil\n",
    "z2 = 10.0             # Position of second airfoil\n",
    "c1 = 2.5              # Chord of first airfoil\n",
    "c2 = 1.0              # Chord of second airfoil\n",
    "file_name = \"temp_wing00\"    # Name for vtk outpout file\n",
    "\n",
    "# Reads the original airfoil geometry from airfoiltools.com\n",
    "org_x1, org_y1 = examples.readcontour(joinpath(data_path, \"naca6412.dat\"); header_len=1)\n",
    "org_x2, org_y2 = examples.readcontour(joinpath(data_path, \"naca0006.dat\"); header_len=1)\n",
    "\n",
    "# Separate upper and lower sides to make the contour injective in x\n",
    "upper1, lower1 = examples.splitcontour(org_x1, org_y1)\n",
    "upper2, lower2 = examples.splitcontour(org_x2, org_y2)\n",
    "\n",
    "# Parameterize both sides independently\n",
    "fun_upper1 = gt.parameterize(upper1[1], upper1[2], zeros(eltype(upper1[1]), size(upper1[1])); inj_var=1)\n",
    "fun_lower1 = gt.parameterize(lower1[1], lower1[2], zeros(eltype(lower1[1]), size(lower1[1])); inj_var=1)\n",
    "fun_upper2 = gt.parameterize(upper2[1], upper2[2], zeros(eltype(upper2[1]), size(upper2[1])); inj_var=1)\n",
    "fun_lower2 = gt.parameterize(lower2[1], lower2[2], zeros(eltype(lower2[1]), size(lower2[1])); inj_var=1)\n",
    "\n",
    "# Upper surface sections\n",
    "aux1 = Int(floor(20/53*n_up))\n",
    "sec1 = (0.35, aux1, 3.0, true) # 35% of the line has 20 sections in ratio 3.0 around center\n",
    "sec2 = (0.65, n_up-aux1, 3.0, true) # 65% of the line has 33 sections in ratio 3.0 around center\n",
    "\n",
    "# New discretization for both surfaces\n",
    "upper_points1 = gt.multidiscretize(fun_upper1, 0, 1, [sec1,sec2])\n",
    "lower_points1 = gt.discretize(fun_lower1, 0, 1, n_lower, 8.0; central=true)\n",
    "upper_points2 = gt.multidiscretize(fun_upper2, 0, 1, [sec1,sec2])\n",
    "lower_points2 = gt.discretize(fun_lower2, 0, 1, n_lower, 8.0; central=true)\n",
    "\n",
    "# Put both surfaces back together from TE over the top and from LE over the bottom.\n",
    "reverse!(upper_points1)                           # Trailing edge over the top\n",
    "new_x1 = [point[1] for point in upper_points1]\n",
    "new_y1 = [point[2] for point in upper_points1]     # Leading edge over the bottom\n",
    "new_x1 = vcat(new_x1, [point[1] for point in lower_points1])\n",
    "new_y1 = vcat(new_y1, [point[2] for point in lower_points1])\n",
    "reverse!(upper_points2)                           # Trailing edge over the top\n",
    "new_x2 = [point[1] for point in upper_points2]\n",
    "new_y2 = [point[2] for point in upper_points2]     # Leading edge over the bottom\n",
    "new_x2 = vcat(new_x2, [point[1] for point in lower_points2])\n",
    "new_y2 = vcat(new_y2, [point[2] for point in lower_points2])\n",
    "println(\"\")"
   ]
  },
  {
   "cell_type": "code",
   "execution_count": 19,
   "metadata": {
    "hidden": true,
    "hideCode": false,
    "hidePrompt": false
   },
   "outputs": [
    {
     "data": {
      "image/png": "[encoded data removed]",
      "text/plain": [
       "Figure(PyObject <Figure size 1050x250 with 1 Axes>)"
      ]
     },
     "metadata": {},
     "output_type": "display_data"
    }
   ],
   "source": [
    "examples.plot_airfoil(new_x1, new_y1; style=\"--.k\", title_str=\"NACA6412\")"
   ]
  },
  {
   "cell_type": "code",
   "execution_count": 20,
   "metadata": {
    "hidden": true,
    "hideCode": false,
    "hidePrompt": false
   },
   "outputs": [
    {
     "data": {
      "image/png": "[encoded data removed]",
      "text/plain": [
       "Figure(PyObject <Figure size 1050x250 with 1 Axes>)"
      ]
     },
     "metadata": {},
     "output_type": "display_data"
    }
   ],
   "source": [
    "examples.plot_airfoil(new_x2, new_y2; style=\"--.k\", title_str=\"NACA0006\")"
   ]
  },
  {
   "cell_type": "markdown",
   "metadata": {
    "hidden": true,
    "hideCode": false,
    "hidePrompt": false
   },
   "source": [
    "Now we can use `lines2vtkmulticells()` to generate a lofted 3D surface between both airfoils and output it in VTK Legacy format using `generateVTK()`:"
   ]
  },
  {
   "cell_type": "code",
   "execution_count": 22,
   "metadata": {
    "hidden": true,
    "hideCode": false,
    "hidePrompt": false
   },
   "outputs": [],
   "source": [
    "npoints = size(new_x1)[1]         # Number of points on each airfoil contour\n",
    "# Dimensions the airfoil acording to their chord length and positions them in z\n",
    "airfoil1 = [[c1*new_x1[i], c1*new_y1[i], z1] for i in 1:npoints]\n",
    "airfoil2 = [[c2*new_x2[i], c2*new_y2[i], z2] for i in 1:npoints]\n",
    "\n",
    "# Discretization of the lofting between the airfoils\n",
    "nloft = 50                      # Number of sections\n",
    "rloft = 10.0                   # Expansion ratio\n",
    "central = true                  # Expands about center between edges\n",
    "sections = [(1.0, nloft, rloft, central)]   # Discretization sections\n",
    "\n",
    "# Dummy point data for good looking visuals\n",
    "pd1 = [i for i in 1:size(airfoil1)[1]]\n",
    "pd2 = size(airfoil1)[1] .+ [i for i in 1:size(airfoil2)[1]]\n",
    "\n",
    "# Generates cells in VTK Legacy format\n",
    "out = gt.lines2vtkmulticells(airfoil1, airfoil2, sections;\n",
    "                                        point_data1=pd1, point_data2=pd2)\n",
    "points, vtk_cells, point_data = out\n",
    "\n",
    "\n",
    "# Formats the point data for generateVTK\n",
    "data = []\n",
    "push!(data, Dict(\n",
    "              \"field_name\" => \"Point_index\",\n",
    "              \"field_type\" => \"scalar\",\n",
    "              \"field_data\" => point_data\n",
    "              )\n",
    "   )\n",
    "\n",
    "\n",
    "# Generates the vtk file\n",
    "gt.generateVTK(file_name, points; cells=vtk_cells, point_data=data)"
   ]
  },
  {
   "cell_type": "markdown",
   "metadata": {
    "hidden": true,
    "hideCode": false,
    "hidePrompt": false
   },
   "source": [
    "Visualize in Paraview:"
   ]
  },
  {
   "cell_type": "code",
   "execution_count": 23,
   "metadata": {
    "hidden": true,
    "hideCode": false,
    "hidePrompt": false
   },
   "outputs": [],
   "source": [
    "# Calls paraview\n",
    "run(`paraview --data=\"$(file_name).vtk;\"`)\n",
    "\n",
    "# Deletes files\n",
    "if false\n",
    " print(\"Delete vtk files? ([y]/n) \")\n",
    " y = readline()\n",
    "else\n",
    " y = \"y\"\n",
    "end\n",
    "if y==\"y\"; run(`rm -f $(file_name).vtk`); end;"
   ]
  },
  {
   "cell_type": "markdown",
   "metadata": {
    "hidden": true,
    "hideCode": false,
    "hidePrompt": false
   },
   "source": [
    "\n",
    "<img src=\"img/wing00.png\" alt=\"Pic here\" style=\"width: 600px;\"/>\n",
    "<img src=\"img/wing01.png\" alt=\"Pic here\" style=\"width: 600px;\"/>\n",
    "<img src=\"img/wing02.png\" alt=\"Pic here\" style=\"width: 600px;\"/>"
   ]
  },
  {
   "cell_type": "markdown",
   "metadata": {
    "heading_collapsed": true,
    "hidden": true,
    "hideCode": false,
    "hidePrompt": false
   },
   "source": [
    "## Example: Blade"
   ]
  },
  {
   "cell_type": "code",
   "execution_count": 25,
   "metadata": {
    "hidden": true,
    "hideCode": false,
    "hidePrompt": false
   },
   "outputs": [
    {
     "name": "stderr",
     "output_type": "stream",
     "text": [
      "┌ Warning: Deprecated syntax `implicit assignment to global variable `x``.\n",
      "│ Use `global x` instead.\n",
      "└ @ nothing none:0\n",
      "┌ Warning: Deprecated syntax `implicit assignment to global variable `y``.\n",
      "│ Use `global y` instead.\n",
      "└ @ nothing none:0\n",
      "┌ Warning: Deprecated syntax `implicit assignment to global variable `upper``.\n",
      "│ Use `global upper` instead.\n",
      "└ @ nothing none:0\n",
      "┌ Warning: Deprecated syntax `implicit assignment to global variable `lower``.\n",
      "│ Use `global lower` instead.\n",
      "└ @ nothing none:0\n"
     ]
    },
    {
     "data": {
      "image/png": "[encoded data removed]",
      "text/plain": [
       "Figure(PyObject <Figure size 1050x250 with 1 Axes>)"
      ]
     },
     "metadata": {},
     "output_type": "display_data"
    }
   ],
   "source": [
    "airfoil_files = [\"Cyl1.txt\", \"Cyl1.txt\", \"S815.txt\", \"S809.txt\", \"S826.txt\"]\n",
    "file_name = \"temp_blade00\"    # Name for vtk outpout file\n",
    "prompt = false\n",
    "\n",
    "# PARAMETERS\n",
    "n_upper = 20             # Number of sections in upper surface of blade\n",
    "n_lower = 20          # Number of sections in lower surface of blade\n",
    "r = [1.0, 1.0, 8.0, 8.0, 8.0]           # Expansion ratio in both surfaces of each airfoil\n",
    "sections = [[(1.0, 10, 1.0, false)],      # Discretization between each airfoil\n",
    "          [(1.0, 5, 1.0, false)],\n",
    "          [(1.0, 15, 1.0, false)],\n",
    "          [(1.0, 10, 1.0, false)],\n",
    "  ]\n",
    "\n",
    "Rtip = 25.0           # Radius at blade tip\n",
    "Rhub = 1.0            # Radius of the hub\n",
    "pos = [0, 0.15, 0.2, 0.5, 1.0]           # Position along blade of each airfoil\n",
    "chords = [1.0, 0.6, 1.75, 3.0, 0.85]    # Chord length of each airfoil\n",
    "\n",
    "# Leading edge position of each airfoil\n",
    "Os = [[-chords[1]/2, 0, Rhub+pos[1]*(Rtip-Rhub)],\n",
    "      [-chords[2]*7/8, 0, Rhub+pos[2]*(Rtip-Rhub)],\n",
    "      [-chords[3]*4/6, 0, Rhub+pos[3]*(Rtip-Rhub)],\n",
    "      [-chords[4]/4, 0, Rhub+pos[4]*(Rtip-Rhub)],\n",
    "      [-chords[5]/8, 0, Rhub+pos[5]*(Rtip-Rhub)]\n",
    "  ]\n",
    "# Orientation of chord of each airfoil (yaw, pitch, roll)\n",
    "orien = [ [0.0, 0.0, 0.0],\n",
    "          [0.0, 0.0, 0.0],\n",
    "          [10.0, 0.0, 0.0],\n",
    "          [7.5, 0.0, 0.0],\n",
    "          [0.0, 30.0, 0.0]\n",
    "]\n",
    "\n",
    "crosssections = []        # It will store here the cross sections for lofting\n",
    "point_datas = []          # Dummy point data for good looking visuals\n",
    "\n",
    "# Processes each airfoil geometry\n",
    "styles = [\"--k\", \"--r\", \"--g\", \"--b\", \"--y\", \"--c\"]\n",
    "org_points = []\n",
    "for (i,airfoil_file) in enumerate(airfoil_files)\n",
    "\n",
    "  # Read airfoil file\n",
    "  x,y = examples.readcontour(joinpath(data_path, airfoil_file); header_len=2)\n",
    "  push!(org_points, [x,y])\n",
    "\n",
    "  # Separate upper and lower sides to make the contour injective in x\n",
    "  upper, lower = examples.splitcontour(x, y)\n",
    "\n",
    "  # Parameterize both sides independently\n",
    "  fun_upper = gt.parameterize(upper[1], upper[2], zeros(eltype(upper[1]), size(upper[1])); inj_var=1)\n",
    "  fun_lower = gt.parameterize(lower[1], lower[2], zeros(eltype(lower[1]), size(lower[1])); inj_var=1)\n",
    "\n",
    "  # New discretization for both surfaces\n",
    "  upper_points = gt.discretize(fun_upper, 0, 1, n_upper, r[1]; central=true)\n",
    "  lower_points = gt.discretize(fun_lower, 0, 1, n_lower, r[1]; central=true)\n",
    "\n",
    "  # Put both surfaces back together from TE over the top and from LE over the bottom.\n",
    "  reverse!(upper_points)                           # Trailing edge over the top\n",
    "  new_x = [point[1] for point in upper_points]\n",
    "  new_y = [point[2] for point in upper_points]      # Leading edge over the bottom\n",
    "  new_x = vcat(new_x, [point[1] for point in lower_points])\n",
    "  new_y = vcat(new_y, [point[2] for point in lower_points])\n",
    "\n",
    "  examples.plot_airfoil(new_x, new_y; style=styles[i], label=airfoil_file)\n",
    "#     println(\"Close figure and press ENTER\")\n",
    "#     readline()\n",
    "\n",
    "  # Scales the airfoil acording to its chord length\n",
    "  new_x = chords[i]*new_x\n",
    "  new_y = chords[i]*new_y\n",
    "\n",
    "  # Reformats into points\n",
    "  npoints = size(new_x)[1]\n",
    "  airfoil = Array{Float64, 1}[[new_x[j], new_y[j], 0] for j in 1:npoints]\n",
    "\n",
    "  # Positions the airfoil along the blade in the right orientation\n",
    "  Oaxis = gt.rotation_matrix(orien[i][1], orien[i][2], orien[i][3])\n",
    "  invOaxis = inv(Oaxis)\n",
    "  airfoil = gt.countertransform(airfoil, invOaxis, Os[i])\n",
    "\n",
    "  push!(crosssections, airfoil)\n",
    "  push!(point_datas, [j for j in npoints*(i-1)+1:npoints*i])\n",
    "end\n",
    "\n",
    "# Generates cells in VTK Legacy format\n",
    "out = gt.multilines2vtkmulticells(crosssections, sections;\n",
    "                                    point_datas=point_datas)\n",
    "points, vtk_cells, point_data = out\n",
    "\n",
    "\n",
    "# Formats the point data for generateVTK\n",
    "data = []\n",
    "push!(data, Dict(\n",
    "          \"field_name\" => \"Point_index\",\n",
    "          \"field_type\" => \"scalar\",\n",
    "          \"field_data\" => point_data\n",
    "          )\n",
    ")\n",
    "\n",
    "\n",
    "# Generates the vtk file\n",
    "gt.generateVTK(file_name, points; cells=vtk_cells, point_data=data)\n",
    "\n",
    "# Calls paraview\n",
    "run(`paraview --data=\"$(file_name).vtk;\"`)\n",
    "\n",
    "\n",
    "# Deletes files\n",
    "if prompt\n",
    "print(\"Delete vtk files? ([y]/n) \")\n",
    "y = readline()\n",
    "else\n",
    "y = \"y\"\n",
    "end\n",
    "if y==\"y\"; run(`rm -f $(file_name).vtk`); end;"
   ]
  },
  {
   "cell_type": "markdown",
   "metadata": {
    "hidden": true,
    "hideCode": false,
    "hidePrompt": false
   },
   "source": [
    "\n",
    "<img src=\"img/blade00.png\" alt=\"Pic here\" style=\"width: 600px;\"/>\n",
    "<img src=\"img/blade01.png\" alt=\"Pic here\" style=\"width: 600px;\"/>\n",
    "<img src=\"img/blade02.png\" alt=\"Pic here\" style=\"width: 600px;\"/>"
   ]
  },
  {
   "cell_type": "markdown",
   "metadata": {
    "heading_collapsed": true,
    "hideCode": false,
    "hidePrompt": false
   },
   "source": [
    "# Grids"
   ]
  },
  {
   "cell_type": "markdown",
   "metadata": {
    "heading_collapsed": true,
    "hidden": true,
    "hideCode": false,
    "hidePrompt": false
   },
   "source": [
    "## Grid Definition"
   ]
  },
  {
   "cell_type": "code",
   "execution_count": 26,
   "metadata": {
    "hidden": true
   },
   "outputs": [
    {
     "data": {
      "text/markdown": [
       "`Grid(P_min, P_max, NDIVS)`\n",
       "\n",
       "Generates an n-dimensional grid.\n",
       "\n",
       "**Arguments**\n",
       "\n",
       "  * `P_min::Array{Float64,1}`   : Minimum point of the domain.\n",
       "  * `P_max::Array{Float64,1}`   : Maximum point of the domain.\n",
       "  * `NDIVS::Array{Int64,1}`     : Number of divisions in each coordinate.\n",
       "\n",
       "**Properties**\n",
       "\n",
       "  * `dims::Int64`               : Number of dimensions.\n",
       "  * `nnodes::Int64`             : Number of nodes in the grid.\n",
       "  * `nodes::Array{Float64,2}`   : Matrix size (`nnodes`, `dims`) of node position.\n",
       "  * `field` : Contains calculated fields formated as field[field*name] = Dict(                         \"field*name\" => field*name::String,                         \"field*type\" => \"scalar\" or \"vector\",                         \"entry*type\" => \"node\" or \"cell\",                         \"field*data\" => data                         )         where `data` is an array data[i] = [val1, val2, ...] containing         this field values (scalar or vector) at each node in the grid.\n",
       "\n",
       "NOTE: All indexing is done linearly, meaning that `nodes` is indexed from 1 to       `nnodes`, and all data fields follow the same indexing.\n",
       "\n",
       "NOTE2: `NDIVS` can either be an array of integers with NDIVS[i] indicating the       number of divisions in the i-th coordinate, or it can be an array of       sections (see `multidiscretize()` doc) with NDIVS[i] = [sec1, sec2, ...]       indicating the discretization into sections in the i-th coordinate.\n"
      ],
      "text/plain": [
       "  \u001b[36mGrid(P_min, P_max, NDIVS)\u001b[39m\n",
       "\n",
       "  Generates an n-dimensional grid.\n",
       "\n",
       "  \u001b[1mArguments\u001b[22m\n",
       "\n",
       "    •    \u001b[36mP_min::Array{Float64,1}\u001b[39m : Minimum point of the domain.\n",
       "\n",
       "    •    \u001b[36mP_max::Array{Float64,1}\u001b[39m : Maximum point of the domain.\n",
       "\n",
       "    •    \u001b[36mNDIVS::Array{Int64,1}\u001b[39m : Number of divisions in each coordinate.\n",
       "\n",
       "  \u001b[1mProperties\u001b[22m\n",
       "\n",
       "    •    \u001b[36mdims::Int64\u001b[39m : Number of dimensions.\n",
       "\n",
       "    •    \u001b[36mnnodes::Int64\u001b[39m : Number of nodes in the grid.\n",
       "\n",
       "    •    \u001b[36mnodes::Array{Float64,2}\u001b[39m : Matrix size (\u001b[36mnnodes\u001b[39m, \u001b[36mdims\u001b[39m) of node\n",
       "        position.\n",
       "\n",
       "    •    \u001b[36mfield\u001b[39m : Contains calculated fields formated as field[field\u001b[4mname] =\n",
       "        Dict( \"field\u001b[24mname\" => field\u001b[4mname::String, \"field\u001b[24mtype\" => \"scalar\" or\n",
       "        \"vector\", \"entry\u001b[4mtype\" => \"node\" or \"cell\", \"field\u001b[24mdata\" => data )\n",
       "        where \u001b[36mdata\u001b[39m is an array data[i] = [val1, val2, ...] containing this\n",
       "        field values (scalar or vector) at each node in the grid.\n",
       "\n",
       "  NOTE: All indexing is done linearly, meaning that \u001b[36mnodes\u001b[39m is indexed from 1 to\n",
       "  \u001b[36mnnodes\u001b[39m, and all data fields follow the same indexing.\n",
       "\n",
       "  NOTE2: \u001b[36mNDIVS\u001b[39m can either be an array of integers with NDIVS[i] indicating the\n",
       "  number of divisions in the i-th coordinate, or it can be an array of\n",
       "  sections (see \u001b[36mmultidiscretize()\u001b[39m doc) with NDIVS[i] = [sec1, sec2, ...]\n",
       "  indicating the discretization into sections in the i-th coordinate."
      ]
     },
     "execution_count": 26,
     "metadata": {},
     "output_type": "execute_result"
    }
   ],
   "source": [
    "? gt.Grid"
   ]
  },
  {
   "cell_type": "code",
   "execution_count": 27,
   "metadata": {
    "hidden": true
   },
   "outputs": [
    {
     "data": {
      "text/markdown": [
       "`get_node(grid, i)`\n",
       "\n",
       "Returns the position of the i-th node (1-indexed) in the grid\n",
       "\n",
       "---\n",
       "\n",
       "`get_node(grid, coor)`\n",
       "\n",
       "Returns the position of the node of subscript coordinates `coor` (1-indexed)\n"
      ],
      "text/plain": [
       "  \u001b[36mget_node(grid, i)\u001b[39m\n",
       "\n",
       "  Returns the position of the i-th node (1-indexed) in the grid\n",
       "\n",
       "  ────────────────────────────────────────────────────────────────────────────\n",
       "\n",
       "  \u001b[36mget_node(grid, coor)\u001b[39m\n",
       "\n",
       "  Returns the position of the node of subscript coordinates \u001b[36mcoor\u001b[39m (1-indexed)"
      ]
     },
     "execution_count": 27,
     "metadata": {},
     "output_type": "execute_result"
    }
   ],
   "source": [
    "? gt.get_node"
   ]
  },
  {
   "cell_type": "code",
   "execution_count": 28,
   "metadata": {
    "hidden": true
   },
   "outputs": [
    {
     "data": {
      "text/markdown": [
       "`get_cell(grid, i)`\n",
       "\n",
       "Returns the nodes indices of i-th cell in the grid (1-indexed)\n",
       "\n",
       "---\n",
       "\n",
       "`get_cell(grid, coor)`\n",
       "\n",
       "Returns the node indices of the cell with subscript coordinates `coor` (1-indexed). The format corresponds to VTK*HEXAHEDRON (=12) in 3D, VTK*QUAD (=9) in 2D, or VTK_LINE (=3) in 1D–-except that points are 1-indexed instead of 0-indexed.\n"
      ],
      "text/plain": [
       "  \u001b[36mget_cell(grid, i)\u001b[39m\n",
       "\n",
       "  Returns the nodes indices of i-th cell in the grid (1-indexed)\n",
       "\n",
       "  ────────────────────────────────────────────────────────────────────────────\n",
       "\n",
       "  \u001b[36mget_cell(grid, coor)\u001b[39m\n",
       "\n",
       "  Returns the node indices of the cell with subscript coordinates \u001b[36mcoor\u001b[39m\n",
       "  (1-indexed). The format corresponds to VTK\u001b[4mHEXAHEDRON (=12) in 3D, VTK\u001b[24mQUAD\n",
       "  (=9) in 2D, or VTK_LINE (=3) in 1D–-except that points are 1-indexed instead\n",
       "  of 0-indexed."
      ]
     },
     "execution_count": 28,
     "metadata": {},
     "output_type": "execute_result"
    }
   ],
   "source": [
    "? gt.get_cell"
   ]
  },
  {
   "cell_type": "markdown",
   "metadata": {
    "hidden": true
   },
   "source": [
    "|     |     |     |\n",
    "|:---:|:---:|:---:|\n",
    "|<img src=\"img/vtk00.png\" alt=\"Pic here\" style=\"width: 200px;\"/>|<img src=\"img/vtk01.png\" alt=\"Pic here\" style=\"width: 150px;\"/>|<img src=\"img/vtk02.png\" alt=\"Pic here\" style=\"width: 200px;\"/>|"
   ]
  },
  {
   "cell_type": "markdown",
   "metadata": {
    "heading_collapsed": true,
    "hidden": true
   },
   "source": [
    "### Example: Simple Cube"
   ]
  },
  {
   "cell_type": "markdown",
   "metadata": {
    "hidden": true
   },
   "source": [
    "Here is a cube of unit length with the bottom left back corner at the origin. The grid defines 3 sections in x, 2 sections in y, and 1 section in z by giving it `NDIVS = [3,2,1]`.\n",
    "<img src=\"img/cube00.png\" alt=\"Pic here\" style=\"width: 500px;\"/>"
   ]
  },
  {
   "cell_type": "code",
   "execution_count": 29,
   "metadata": {
    "hidden": true,
    "hideCode": false,
    "hidePrompt": false
   },
   "outputs": [
    {
     "name": "stderr",
     "output_type": "stream",
     "text": [
      "┌ Warning: `a::AbstractArray + b::Number` is deprecated, use `a .+ b` instead.\n",
      "│   caller = _calc_ndivsnodes(::Array{Int64,1}, ::Int64) at GeometricTools_grid.jl:458\n",
      "└ @ GeometricTools /home/taylor/.julia/dev/GeometricTools/src/GeometricTools_grid.jl:458\n",
      "┌ Warning: `linspace(start, stop, length::Integer)` is deprecated, use `range(start, stop=stop, length=length)` instead.\n",
      "│   caller = #68 at none:0 [inlined]\n",
      "└ @ Core ./none:0\n",
      "┌ Warning: `linspace(start, stop, length::Integer)` is deprecated, use `range(start, stop=stop, length=length)` instead.\n",
      "│   caller = #68 at none:0 [inlined]\n",
      "└ @ Core ./none:0\n",
      "┌ Warning: `ind2sub(dims, ind)` is deprecated, use `Tuple(CartesianIndices(dims)[ind])` for a direct replacement. In many cases, the conversion to `Tuple` is not necessary.\n",
      "│   caller = _generate_grid(::Array{Float64,1}, ::Array{Float64,1}, ::Array{Int64,1}, ::Int64) at GeometricTools_grid.jl:495\n",
      "└ @ GeometricTools /home/taylor/.julia/dev/GeometricTools/src/GeometricTools_grid.jl:495\n"
     ]
    },
    {
     "ename": "ErrorException",
     "evalue": "cannot assign variable PyPlot.grid from module Main",
     "output_type": "error",
     "traceback": [
      "cannot assign variable PyPlot.grid from module Main",
      "",
      "Stacktrace:",
      " [1] top-level scope at In[29]:8"
     ]
    }
   ],
   "source": [
    "file_name = \"temp_cubegrid00\"\n",
    "paraview = false\n",
    "\n",
    "# Defines a cube of unit length with the bottom left corner at origin\n",
    "P_min = zeros(3)     # Bottom left back corner\n",
    "P_max = ones(3)      # Top right front corner\n",
    "NDIVS = [3,2,1]      # 3 sections in x, 2 sections in y, 1 sections in z\n",
    "\n",
    "# Generates the grid object\n",
    "grid = gt.Grid(P_min, P_max, NDIVS)\n",
    "\n",
    "if paraview\n",
    "    # Outputs a vtk file\n",
    "    gt.save(grid, file_name)\n",
    "\n",
    "    # Calls paraview\n",
    "    run(`paraview --data=$file_name.vtk`)\n",
    "\n",
    "    # Delete vtk file\n",
    "    run(`rm -f $file_name.vtk`)\n",
    "else\n",
    "    gt.plot(grid; labelnodes=!true, labelcells=!true, labelndivs=true)\n",
    "end"
   ]
  },
  {
   "cell_type": "markdown",
   "metadata": {
    "heading_collapsed": true,
    "hidden": true
   },
   "source": [
    "### Example: Refined Cube"
   ]
  },
  {
   "cell_type": "markdown",
   "metadata": {
    "hidden": true
   },
   "source": [
    "Now we have the same cube, but this time we will define sections of refiment in each coordinate: two points in x, boundaries in y, and z will stay as only one section. This is done by giving it \n",
    "\n",
    "```julia\n",
    "NDIVS = [  # x sections\n",
    "           [(1/3, 10, 1/5, false),\n",
    "            (1/3, 20, 5.0, true), \n",
    "            (1/3, 10, 5.0, false)],\n",
    "           # y sections\n",
    "           [(1.0, 30, 5.0, true)],   \n",
    "           # z sections\n",
    "           [(1.0, 1, 1.0, false)]    \n",
    "        ]\n",
    "```\n",
    "`NDIVS` defines sections of refinement in each coordinate as `NDIVS[i] = [sec1, sec2, ...]` the sections in the i-th coordinate, where `sec = (c::Float64, n::Int64, r::Float64, central::Bool)`. See documentation of `multidiscretize` for more details.\n",
    " \n",
    "<img src=\"img/cube01.png\" alt=\"Pic here\" style=\"width: 500px;\"/>"
   ]
  },
  {
   "cell_type": "code",
   "execution_count": 2,
   "metadata": {
    "hidden": true,
    "hideCode": false,
    "hidePrompt": false
   },
   "outputs": [
    {
     "name": "stderr",
     "output_type": "stream",
     "text": [
      "┌ Warning: `ind2sub(dims, ind)` is deprecated, use `Tuple(CartesianIndices(dims)[ind])` for a direct replacement. In many cases, the conversion to `Tuple` is not necessary.\n",
      "│   caller = get_cell(::GeometricTools.Grid, ::Int64) at GeometricTools_grid.jl:128\n",
      "└ @ GeometricTools /home/taylor/.julia/dev/GeometricTools/src/GeometricTools_grid.jl:128\n",
      "┌ Warning: `sub2ind(dims::DimsInteger, I::Integer...)` is deprecated, use `(LinearIndices(dims))[I...]` instead.\n",
      "│   caller = get_cell(::GeometricTools.Grid, ::Array{Int64,1}) at GeometricTools_grid.jl:185\n",
      "└ @ GeometricTools /home/taylor/.julia/dev/GeometricTools/src/GeometricTools_grid.jl:185\n",
      "┌ Warning: `sub2ind(dims::DimsInteger, I::Integer...)` is deprecated, use `(LinearIndices(dims))[I...]` instead.\n",
      "│   caller = get_cell(::GeometricTools.Grid, ::Array{Int64,1}) at GeometricTools_grid.jl:185\n",
      "└ @ GeometricTools /home/taylor/.julia/dev/GeometricTools/src/GeometricTools_grid.jl:185\n",
      "┌ Warning: `sub2ind(dims::DimsInteger, I::Integer...)` is deprecated, use `(LinearIndices(dims))[I...]` instead.\n",
      "│   caller = get_cell(::GeometricTools.Grid, ::Array{Int64,1}) at GeometricTools_grid.jl:185\n",
      "└ @ GeometricTools /home/taylor/.julia/dev/GeometricTools/src/GeometricTools_grid.jl:185\n",
      "┌ Warning: `sub2ind(dims::DimsInteger, I::Integer...)` is deprecated, use `(LinearIndices(dims))[I...]` instead.\n",
      "│   caller = get_cell(::GeometricTools.Grid, ::Array{Int64,1}) at GeometricTools_grid.jl:185\n",
      "└ @ GeometricTools /home/taylor/.julia/dev/GeometricTools/src/GeometricTools_grid.jl:185\n",
      "┌ Warning: `sub2ind(dims::DimsInteger, I::Integer...)` is deprecated, use `(LinearIndices(dims))[I...]` instead.\n",
      "│   caller = get_cell(::GeometricTools.Grid, ::Array{Int64,1}) at GeometricTools_grid.jl:185\n",
      "└ @ GeometricTools /home/taylor/.julia/dev/GeometricTools/src/GeometricTools_grid.jl:185\n",
      "┌ Warning: `sub2ind(dims::DimsInteger, I::Integer...)` is deprecated, use `(LinearIndices(dims))[I...]` instead.\n",
      "│   caller = get_cell(::GeometricTools.Grid, ::Array{Int64,1}) at GeometricTools_grid.jl:185\n",
      "└ @ GeometricTools /home/taylor/.julia/dev/GeometricTools/src/GeometricTools_grid.jl:185\n",
      "┌ Warning: `sub2ind(dims::DimsInteger, I::Integer...)` is deprecated, use `(LinearIndices(dims))[I...]` instead.\n",
      "│   caller = get_cell(::GeometricTools.Grid, ::Array{Int64,1}) at GeometricTools_grid.jl:185\n",
      "└ @ GeometricTools /home/taylor/.julia/dev/GeometricTools/src/GeometricTools_grid.jl:185\n",
      "┌ Warning: `sub2ind(dims::DimsInteger, I::Integer...)` is deprecated, use `(LinearIndices(dims))[I...]` instead.\n",
      "│   caller = get_cell(::GeometricTools.Grid, ::Array{Int64,1}) at GeometricTools_grid.jl:185\n",
      "└ @ GeometricTools /home/taylor/.julia/dev/GeometricTools/src/GeometricTools_grid.jl:185\n",
      "┌ Warning: `a::AbstractArray - b::Number` is deprecated, use `a .- b` instead.\n",
      "│   caller = (::getfield(GeometricTools, Symbol(\"##101#105\")){GeometricTools.Grid})(::Int64) at none:0\n",
      "└ @ GeometricTools ./none:0\n"
     ]
    },
    {
     "data": {
      "text/plain": [
       "Process(`\u001b[4mrm\u001b[24m \u001b[4m-f\u001b[24m \u001b[4mtemp_cubegrid01.vtk\u001b[24m`, ProcessExited(0))"
      ]
     },
     "execution_count": 2,
     "metadata": {},
     "output_type": "execute_result"
    }
   ],
   "source": [
    "file_name = \"temp_cubegrid01\"\n",
    "paraview = true\n",
    "\n",
    "# Defines a cube of unit length with the bottom left corner at origin\n",
    "P_min = zeros(3)     # Bottom left back corner\n",
    "P_max = ones(3)      # Top right front corner\n",
    "\n",
    "# Defines sections of refinement in each coordinate as NDIVS[i] = [sec1, sec2, ...]\n",
    "# the sections in the i-th coordinate, where \n",
    "# sec = (c::Float64, n::Int64, r::Float64, central::Bool). See documentation of\n",
    "# `multidiscretize` for more details.\n",
    "NDIVS = [ [(1/3, 10, 1/5, false), # x sections\n",
    "            (1/3, 20, 5.0, true), \n",
    "            (1/3, 10, 5.0, false)], \n",
    "          [(1.0, 30, 5.0, true)],   # y sections\n",
    "          [(1.0, 1, 1.0, false)]    # z sections\n",
    "        ]\n",
    "\n",
    "# Generates the grid object\n",
    "grid = gt.Grid(P_min, P_max, NDIVS)\n",
    "\n",
    "if paraview\n",
    "    # Outputs a vtk file\n",
    "    gt.save(grid, file_name)\n",
    "\n",
    "    # Calls paraview\n",
    "    run(`paraview --data=$file_name.vtk`)\n",
    "\n",
    "    # Delete vtk file\n",
    "    run(`rm -f $file_name.vtk`)\n",
    "else\n",
    "    gt.plot(grid; labelnodes=!true, labelcells=!true, labelndivs=true)\n",
    "end"
   ]
  },
  {
   "cell_type": "markdown",
   "metadata": {
    "heading_collapsed": true,
    "hidden": true
   },
   "source": [
    "## Space Transformation"
   ]
  },
  {
   "cell_type": "code",
   "execution_count": null,
   "metadata": {
    "hidden": true
   },
   "outputs": [],
   "source": [
    "? gt.transform!"
   ]
  },
  {
   "cell_type": "code",
   "execution_count": null,
   "metadata": {
    "hidden": true
   },
   "outputs": [],
   "source": [
    "? gt.lintransform!"
   ]
  },
  {
   "cell_type": "markdown",
   "metadata": {
    "hidden": true
   },
   "source": [
    "Nonlinear [orthogonal space transformations](https://en.wikipedia.org/wiki/Orthogonal_coordinates) are implemented as `cylindrical3D(X)`, `cylindrical2D(X)`, `spherical3D(X)`, `parabolic3D(X)`, `paraboloidal3D(X)`, `elliptic3D(X; a=1)`, `prolate3D(X; a=1)`, `oblate3D(X; a=1)`, `bipolar3D(X; a=1)`, `toroidal3D(X; a=1)`, and `conical3D(X; b=2, c=1)`. \n",
    "\n",
    "For linear transformations, `rotation_matrix(yaw::Real, pitch::Real, roll::Real)` returns the rotation matrix of such angles, and `axis_rotation(r::Array{Float64, 1}, angle_deg::Float64)` returns the transformation matrix of rotation around an arbitrary axis of unit vector `r`.\n",
    "\n",
    "The user can also define an arbitrary space transformation. The airfoil example in the Looped Grid section shows the example of transforming a quasi-one-dimensional line into an two-dimensional airfoil contour."
   ]
  },
  {
   "cell_type": "markdown",
   "metadata": {
    "heading_collapsed": true,
    "hidden": true
   },
   "source": [
    "### Example: Circular Grid"
   ]
  },
  {
   "cell_type": "markdown",
   "metadata": {
    "hidden": true
   },
   "source": [
    "Here we generate a two-dimensional circular grid by first defining the boundaries of the circular section $r_\\text{min}, r_\\text{max}, \\theta_\\text{min}, \\theta_\\text{max}$ as a cartesian grid of $P_\\text{min}=(r_\\text{min}, \\theta_\\text{min})$ and $P_\\text{max}=(r_\\text{max}, \\theta_\\text{max})$ and then applying a cylindrical transformation on the grid. The cylindrical transformations take the current coordinates of $x,y$ of the grid as $r,\\theta$ for the new grid. In this case, $r_\\text{min}=R/4$, $r_\\text{max}=R$, $\\theta_\\text{min}=0^\\circ$, $\\theta_\\text{max}=270^\\circ$.\n",
    "\n",
    "<img src=\"img/circ01.png\" alt=\"Pic here\" style=\"width: 600px;\"/>"
   ]
  },
  {
   "cell_type": "code",
   "execution_count": null,
   "metadata": {
    "hidden": true,
    "hideCode": false,
    "hidePrompt": false,
    "scrolled": false
   },
   "outputs": [],
   "source": [
    "file_name = \"temp_circgrid00\"\n",
    "paraview = true\n",
    "\n",
    "R = 1.0                   # Radius of circle\n",
    "\n",
    "P_min = [R/4, 0*pi/180]   # Lower boundaries r, theta\n",
    "P_max = [R, 270*pi/180]   # Upper boundaries r, theta\n",
    "\n",
    "NDIVS = [15, 60]          # 15 radius divisions, 60 angle divisions\n",
    "\n",
    "# Generates the grid as cartesian\n",
    "grid = gt.Grid(P_min, P_max, NDIVS)\n",
    "\n",
    "# Converts to cylindrical\n",
    "gt.transform!(grid, gt.cylindrical2D)\n",
    "\n",
    "if paraview\n",
    "    # Outputs a vtk file\n",
    "    gt.save(grid, file_name)\n",
    "\n",
    "    # Calls paraview\n",
    "    run(`paraview --data=$file_name.vtk`)\n",
    "\n",
    "    # Delete vtk file\n",
    "    run(`rm -f $file_name.vtk`)\n",
    "else\n",
    "    gt.plot(grid; labelnodes=!true, labelcells=!true, labelndivs=true)\n",
    "end"
   ]
  },
  {
   "cell_type": "markdown",
   "metadata": {
    "hidden": true
   },
   "source": [
    "Notice that `NDIVS` can still be used to defined sections of refinement:\n",
    "\n",
    "<img src=\"img/circ02.png\" alt=\"Pic here\" style=\"width: 600px;\"/>"
   ]
  },
  {
   "cell_type": "code",
   "execution_count": null,
   "metadata": {
    "hidden": true,
    "hideCode": false,
    "hidePrompt": false
   },
   "outputs": [],
   "source": [
    "file_name = \"temp_circgrid01\"\n",
    "paraview = true\n",
    "\n",
    "NDIVS = [   # r sections\n",
    "            [(1.0, 15, 5.0, true)],\n",
    "            # theta sections\n",
    "            [(1/3, 15, 1/3, false),\n",
    "             (1/3, 15, 3.0, true),\n",
    "             (1/3, 15, 3.0, false)]\n",
    "        ]\n",
    "\n",
    "# Generates the grid as cartesian\n",
    "grid = gt.Grid(P_min, P_max, NDIVS)\n",
    "\n",
    "# Converts to cylindrical\n",
    "gt.transform!(grid, gt.cylindrical2D)\n",
    "\n",
    "if paraview\n",
    "    # Outputs a vtk file\n",
    "    gt.save(grid, file_name)\n",
    "\n",
    "    # Calls paraview\n",
    "    run(`paraview --data=$file_name.vtk`)\n",
    "\n",
    "    # Delete vtk file\n",
    "    run(`rm -f $file_name.vtk`)\n",
    "else\n",
    "    gt.plot(grid; labelnodes=!true, labelcells=!true, labelndivs=true)\n",
    "end"
   ]
  },
  {
   "cell_type": "markdown",
   "metadata": {
    "heading_collapsed": true,
    "hidden": true
   },
   "source": [
    "### Example: Parabolic Grid"
   ]
  },
  {
   "cell_type": "markdown",
   "metadata": {
    "hidden": true
   },
   "source": [
    "<img src=\"img/parab00.png\" alt=\"Pic here\" style=\"width: 800px;\"/>"
   ]
  },
  {
   "cell_type": "code",
   "execution_count": null,
   "metadata": {
    "hidden": true,
    "hideCode": false,
    "hidePrompt": false
   },
   "outputs": [],
   "source": [
    "file_name = \"temp_parabgrid00\"\n",
    "paraview = true\n",
    "\n",
    "P_min = [0.0, 0.0, 0.0]   # Lower boundaries\n",
    "P_max = [1.0, 1.0, 1.0]   # Upper boundaries r, theta\n",
    "\n",
    "NDIVS = [30, 30, 30] \n",
    "\n",
    "# Generates the grid as cartesian\n",
    "grid = gt.Grid(P_min, P_max, NDIVS)\n",
    "\n",
    "# Converts to cylindrical\n",
    "gt.transform!(grid, gt.parabolic3D)\n",
    "\n",
    "if paraview\n",
    "    # Outputs a vtk file\n",
    "    gt.save(grid, file_name)\n",
    "\n",
    "    # Calls paraview\n",
    "    run(`paraview --data=$file_name.vtk`)\n",
    "\n",
    "    # Delete vtk file\n",
    "    run(`rm -f $file_name.vtk`)\n",
    "else\n",
    "    gt.plot(grid; labelnodes=!true, labelcells=!true, labelndivs=true)\n",
    "end"
   ]
  },
  {
   "cell_type": "markdown",
   "metadata": {
    "heading_collapsed": true,
    "hidden": true
   },
   "source": [
    "## Looped Grid"
   ]
  },
  {
   "cell_type": "markdown",
   "metadata": {
    "hidden": true
   },
   "source": [
    "For some application it is convenient to be able to define a grid that loops on itself making the last cell in such dimension close back with the first cell. The Grid object accept an optional argument indicating the dimension that loops on itself as follows:\n",
    "\n",
    "`Grid(P_min, P_max, NDIVS, loop_dim)`\n",
    "\n",
    "where `loop_dim` is an integer indicating the dimension to loop.\n"
   ]
  },
  {
   "cell_type": "markdown",
   "metadata": {
    "hidden": true
   },
   "source": [
    "Here below is an example of a cylindrical grid $(r, \\theta)$ where by the nodes at $\\theta=0^\\circ$ and $\\theta=360^\\circ$ overlap by default (nodes 1, 2, and 3 overlap with 16, 17, and 18)."
   ]
  },
  {
   "cell_type": "code",
   "execution_count": null,
   "metadata": {
    "hidden": true,
    "hideCode": false,
    "hidePrompt": false
   },
   "outputs": [],
   "source": [
    "R = 1.0                   # Radius of circle\n",
    "\n",
    "P_min = [R/4, 0*pi/180]   # Lower boundaries r, theta\n",
    "P_max = [R, 360*pi/180]   # Upper boundaries r, theta\n",
    "\n",
    "NDIVS = [2, 5]          # 15 radius divisions, 60 angle divisions\n",
    "\n",
    "# Generates the grid as cartesian\n",
    "grid = gt.Grid(P_min, P_max, NDIVS)\n",
    "\n",
    "# Converts to cylindrical\n",
    "gt.transform!(grid, gt.cylindrical2D)\n",
    "\n",
    "gt.plot(grid; labelnodes=true, labelcells=!true, labelndivs=!true, fontsize=8);"
   ]
  },
  {
   "cell_type": "markdown",
   "metadata": {
    "hidden": true
   },
   "source": [
    "By giving it the argument `loop_dim=2`, we get the $\\theta$-coordinate loop on itself, getting rid of this node overlap by merging them:"
   ]
  },
  {
   "cell_type": "code",
   "execution_count": null,
   "metadata": {
    "hidden": true,
    "hideCode": false,
    "hidePrompt": false
   },
   "outputs": [],
   "source": [
    "R = 1.0                   # Radius of circle\n",
    "\n",
    "P_min = [R/4, 0*pi/180]   # Lower boundaries r, theta\n",
    "P_max = [R, 360*pi/180]   # Upper boundaries r, theta\n",
    "\n",
    "NDIVS = [2, 5]            # 2 radius divisions, 5 angle divisions\n",
    "loop_dim = 2              # Loop the theta dimension\n",
    "\n",
    "# Generates the grid as cartesian\n",
    "grid = gt.Grid(P_min, P_max, NDIVS, loop_dim)\n",
    "\n",
    "# Converts to cylindrical\n",
    "gt.transform!(grid, gt.cylindrical2D)\n",
    "\n",
    "gt.plot(grid; labelnodes=true, labelcells=!true, labelndivs=!true, fontsize=8);"
   ]
  },
  {
   "cell_type": "markdown",
   "metadata": {
    "heading_collapsed": true,
    "hidden": true
   },
   "source": [
    "### Airfoil Contour Example"
   ]
  },
  {
   "cell_type": "markdown",
   "metadata": {
    "hidden": true
   },
   "source": [
    "Here we take the same airfoil we used for the parametric discretization example before, and we will use it for generating a grid that parameterizes the contour in a closed loop."
   ]
  },
  {
   "cell_type": "code",
   "execution_count": null,
   "metadata": {
    "hidden": true
   },
   "outputs": [],
   "source": [
    "file_name = \"temp_airfoilgrid00\"\n",
    "paraview = !true\n",
    "\n",
    "\n",
    "# ----------------- READS AND PARAMETERIZES AIRFOIL ---------------------------\n",
    "# Read airfoil contour\n",
    "x,y = examples.readcontour(joinpath(data_path, \"S809.txt\"); header_len=2)\n",
    "examples.plot_airfoil(x,y; style=\"--.k\", title_str=\"Original Airfoil Geometry\")\n",
    "\n",
    "# Separate upper and lower surfaces to make the contour injective in x\n",
    "upper, lower = examples.splitcontour(x,y)\n",
    "\n",
    "# Parameterize both surfaces independently\n",
    "fun_upper = gt.parameterize(upper[1], upper[2], zeros(upper[1]); inj_var=1, s=1e-6)\n",
    "fun_lower = gt.parameterize(lower[1], lower[2], zeros(lower[1]); inj_var=1, s=1e-6)\n",
    "\n",
    "\n",
    "\n",
    "# ----------------- CREATES GRID OF AIRFOIL CONTOUR ---------------------------\n",
    "# Creates the grid as a quasi-one-dimensional line\n",
    "#   `X[1]` is the arc-length around the airfoil contour (between 0 and 1),\n",
    "#   `X[2]` is a dummy value.\n",
    "\n",
    "P_min = [0, 0]             # Lower boundaries arclength, dummy\n",
    "P_max = [1, 0]             # Upper boundaries arclength, dummy\n",
    "NDIVS = [10, 0]            # 100 arclength divisions, 0 dummys\n",
    "loop_dim = 1               # Loop the arclength dimension\n",
    "\n",
    "grid = gt.Grid(P_min, P_max, NDIVS, loop_dim)\n",
    "\n",
    "gt.plot(grid; labelnodes=true, labelcells=true, labelndivs=!true, \n",
    "                fontsize=8, fig_name=\"org\", title_str=\"Original Grid\")\n",
    "\n",
    "\n",
    "# Creates a space transformation function\n",
    "function my_space_transform(X)\n",
    "    if X[1]<0.5\n",
    "        return fun_upper(1-2*X[1])[1:2]\n",
    "    else\n",
    "        return fun_lower(2*(X[1]-0.5))[1:2]\n",
    "    end\n",
    "end\n",
    "\n",
    "# Transforms the quasi-one-dimensional line into the two-dimensional\n",
    "# airfoil contour\n",
    "gt.transform!(grid, my_space_transform)\n",
    "\n",
    "gt.plot(grid; labelnodes=true, labelcells=true, labelndivs=!true, \n",
    "                fontsize=8, title_str=\"Transformed grid\");\n",
    "\n",
    "if paraview\n",
    "    # Outputs a vtk file\n",
    "    gt.save(grid, file_name)\n",
    "\n",
    "    # Calls paraview\n",
    "    run(`paraview --data=$file_name.vtk`)\n",
    "\n",
    "    # Delete vtk file\n",
    "    run(`rm -f $file_name.vtk`)\n",
    "end"
   ]
  },
  {
   "cell_type": "markdown",
   "metadata": {
    "heading_collapsed": true,
    "hidden": true
   },
   "source": [
    "## Surface Grid (Quasi-dimensions)"
   ]
  },
  {
   "cell_type": "markdown",
   "metadata": {
    "hidden": true
   },
   "source": [
    "A three-dimensional surface grid can be generated by defining three-dimensional grid where one of its dimensions has zero divisions, and then transforming the space into the surface geometry. A dimension with zero divisions is recognize as a \"quasi-dimension\", which is a place holder for space transformations without actually extending the dimensions of the grid. For instance, a three-dimensional grid with one quasi-dimension doesn't define its cells as VTK_HEXAHEDRONs as a regular three-dimensional grid would, but **its cells are defined as VTK_QUADs**. Also, quasi-dimensions are not considered as a coordinate direction, meaning that a node/cell in a three-dimensional grid with one quasi-dimension is not indexed by three coordinates $(i,j,k)$, but with **only two coordinates $(i,j)$**.\n",
    "\n",
    "The following lines exemplify the process of defining the quasi-dimensional grid, and applying the space transformation:\n",
    "\n",
    "```julia\n",
    "# Creates quasi-three-dimensional grid\n",
    "P_min = [0, -1, 0]            # Lower boundaries arclength, span, dummy\n",
    "P_max = [1, 1, 0 ]            # Upper boundaries arclength, span, dummy\n",
    "NDIVS = [20, 10, 0]           # 20 arclength cells, 10 span cells, 0 dummy\n",
    "grid = gt.Grid(P_min, P_max, NDIVS)\n",
    "\n",
    "\n",
    "# Creates a space transformation function\n",
    "function my_space_transform(X)\n",
    "    new_X = # Write a new definition of each node here\n",
    "    return new_X\n",
    "end\n",
    "\n",
    "# Applies the space transformation\n",
    "gt.transform!(grid, my_space_transform)\n",
    "```"
   ]
  },
  {
   "cell_type": "markdown",
   "metadata": {
    "hidden": true
   },
   "source": [
    "The following section examplifies the creation of wing surface grid."
   ]
  },
  {
   "cell_type": "markdown",
   "metadata": {
    "heading_collapsed": true,
    "hidden": true
   },
   "source": [
    "### Paneled Wing Example"
   ]
  },
  {
   "cell_type": "markdown",
   "metadata": {
    "hidden": true
   },
   "source": [
    "<img src=\"img/wing04.png\" alt=\"Pic here\" style=\"width: 800px;\"/>\n",
    "<img src=\"vid/wing04.gif\" alt=\"Vid here\" style=\"width: 800px;\"/>"
   ]
  },
  {
   "cell_type": "code",
   "execution_count": null,
   "metadata": {
    "hidden": true,
    "scrolled": false
   },
   "outputs": [],
   "source": [
    "file_name = \"temp_paneledwing00\"\n",
    "paraview = true\n",
    "\n",
    "# ----------------- READS AND PARAMETERIZES AIRFOILS --------------------------\n",
    "semispan = 10            # (m) semi-span length\n",
    "\n",
    "chords = [(0, 2.5),      # (semi-span position, chord length (m))\n",
    "          (0.25, 2.0),\n",
    "          (1, 1.0)]\n",
    "\n",
    "x_pos = [(0, 0),         # (semi-span position, leading edge x-position (m))\n",
    "         (0.25, semispan/40 ),\n",
    "         (1, semispan/8 )]\n",
    "\n",
    "z_pos = [(0, 0),         # (semi-span position, leading edge z-position (m))\n",
    "         (0.25, semispan/100 ),\n",
    "         (1, semispan/50 )]\n",
    "\n",
    "twist = [(0, 5),         # (semi-span position, twist (deg))\n",
    "         (1, 0)]\n",
    "\n",
    "airfoils = [(0, \"naca6412.dat\"), # (semi-span position, airfoil geometry)\n",
    "            (1,\"naca6412.dat\")]\n",
    "\n",
    "airfoil_funs = []\n",
    "\n",
    "for (pos, airfoil_file) in airfoils\n",
    "    # Reads the original airfoil geometry from airfoiltools.com\n",
    "    org_x, org_y = examples.readcontour(joinpath(data_path, airfoil_file); header_len=1)\n",
    "\n",
    "    # Separate upper and lower sides to make the contour injective in x\n",
    "    upper, lower = examples.splitcontour(org_x, org_y)\n",
    "\n",
    "    # Parameterize both sides independently\n",
    "    fun_upper = gt.parameterize(upper[1], upper[2], zeros(upper[1]); inj_var=1)\n",
    "    fun_lower = gt.parameterize(lower[1], lower[2], zeros(lower[1]); inj_var=1)\n",
    "    \n",
    "    push!(airfoil_funs, [pos, (fun_upper, fun_lower)])\n",
    "end\n",
    "\n",
    "\n",
    "# ----------------- CREATES PANEL GRID ----------------------------------------\n",
    "P_min = [0, -1, 0]            # Lower boundaries arclength, span, dummy\n",
    "P_max = [1, 1, 0 ]            # Upper boundaries arclength, span, dummy\n",
    "NDIVS = [20, 10, 0]           # 50 arclength cells, 10 span cells, 0 dummy\n",
    "loop_dim = 1                  # Loop the arclength dimension\n",
    "\n",
    "grid = gt.Grid(P_min, P_max, NDIVS, loop_dim)\n",
    "\n",
    "gt.plot(grid; labelnodes=!true, labelcells=!true, labelndivs=true, \n",
    "                fontsize=8, fig_name=\"org\", title_str=\"Original Grid\")\n",
    "\n",
    "\n",
    "# Auxiliary function for weighting values across span\n",
    "function calc_vals(span, array)\n",
    "    \n",
    "    # Finds bounding airfoil position\n",
    "    val_in, val_out = nothing, array[1]\n",
    "    for val in array[2:end]\n",
    "        val_in = val_out\n",
    "        val_out = val\n",
    "        if val[1]>=abs(span); break; end\n",
    "    end \n",
    "    pos_in = val_in[1]\n",
    "    val_in = val_in[2]\n",
    "    pos_out = val_out[1]\n",
    "    val_out = val_out[2]\n",
    "    \n",
    "    weight = (abs(span)-pos_in)/(pos_out-pos_in)\n",
    "            \n",
    "    return weight, val_in, val_out\n",
    "end\n",
    "\n",
    "# Creates a space transformation function\n",
    "function my_space_transform(X)\n",
    "    span = X[2]\n",
    "    \n",
    "    # Calculates chord\n",
    "    weight, chord_in, chord_out = calc_vals(span, chords)\n",
    "    chord = weight*chord_out+(1-weight)*chord_in\n",
    "    \n",
    "    # Calculates airfoil geometry\n",
    "    weight, rfl_in, rfl_out = calc_vals(span, airfoil_funs)\n",
    "    fun_upper_in, fun_lower_in = rfl_in\n",
    "    fun_upper_out, fun_lower_out = rfl_out\n",
    "    \n",
    "    # Arc-length on upper or lower side of airfoil\n",
    "    if X[1]<0.5\n",
    "        s = 1-2*X[1]\n",
    "        fun_in = fun_upper_in\n",
    "        fun_out = fun_upper_out\n",
    "    else\n",
    "        s = 2*(X[1]-0.5)\n",
    "        fun_in = fun_lower_in\n",
    "        fun_out = fun_lower_out\n",
    "    end\n",
    "    \n",
    "    # Point over airfoil contour\n",
    "    point =  weight*fun_out(s)+(1-weight)*fun_in(s)\n",
    "    point = chord*point\n",
    "    \n",
    "    # Twist\n",
    "    weight, twist_in, twist_out = calc_vals(span, twist)\n",
    "    this_twist = weight*twist_out+(1-weight)*twist_in\n",
    "    \n",
    "    # Applies twist to the airfoil point\n",
    "    point = gt.rotation_matrix(-this_twist, 0, 0)*point\n",
    "    \n",
    "    # Leading edge x-position\n",
    "    weight, x_in, x_out = calc_vals(span, x_pos)\n",
    "    le_x = weight*x_out+(1-weight)*x_in\n",
    "    \n",
    "    # Leading edge z-position\n",
    "    weight, z_in, z_out = calc_vals(span, z_pos)\n",
    "    le_z = weight*z_out+(1-weight)*z_in\n",
    "    \n",
    "    # Span position\n",
    "    y = X[2]*semispan\n",
    "    \n",
    "    return [point[1]+le_x, y, point[2]+le_z]\n",
    "end\n",
    "\n",
    "# Transforms the quasi-two dimensional grid into the wing surface\n",
    "gt.transform!(grid, my_space_transform)\n",
    "\n",
    "\n",
    "lims = [-semispan, semispan]\n",
    "gt.plot(grid; labelnodes=!true, labelcells=!true, labelndivs=true, \n",
    "                fontsize=8, title_str=\"Transformed grid\",\n",
    "                xlims=lims/2.*[0,1], ylims=lims, zlims=lims/10);\n",
    "\n",
    "# Adds some dummy example fields\n",
    "gt.add_field(grid, \"node_index\", \"scalar\", [i for i in 1:grid.nnodes], \"node\")\n",
    "gt.add_field(grid, \"cell_index\", \"scalar\", [i for i in 1:grid.ncells], \"cell\")\n",
    "\n",
    "if paraview\n",
    "    # Outputs a vtk file\n",
    "    gt.save(grid, file_name)\n",
    "\n",
    "    # Calls paraview\n",
    "    run(`paraview --data=$file_name.vtk`)\n",
    "\n",
    "    # Delete vtk file\n",
    "    run(`rm -f $file_name.vtk`)\n",
    "end"
   ]
  },
  {
   "cell_type": "markdown",
   "metadata": {
    "hidden": true
   },
   "source": [
    "By construction, the wing we have defined has nonplanar quadrilateral panel. Since some applications require planar panels, I have defined a special type of grid that receives a three-dimensional surface Grid object, and splits all nonplanar quadrilateral panels into planar triangular panels of the `VTK_TRIANGLE` type.\n",
    "\n",
    "<img src=\"img/vtk_triangle.png\" alt=\"Pic here\" style=\"width: 200px;\"/>. \n",
    "\n",
    "This is implemented in the `GridTriangleSurface` type:"
   ]
  },
  {
   "cell_type": "code",
   "execution_count": null,
   "metadata": {
    "hidden": true
   },
   "outputs": [],
   "source": [
    "? gt.GridTriangleSurface"
   ]
  },
  {
   "cell_type": "code",
   "execution_count": null,
   "metadata": {
    "hidden": true
   },
   "outputs": [],
   "source": [
    "file_name = \"temp_paneledwing01\"\n",
    "\n",
    "# Splits the quadrialateral panels into triangles\n",
    "dimsplit = 1              # Dimension along which to split\n",
    "triang_grid = gt.GridTriangleSurface(grid, dimsplit)\n",
    "\n",
    "# Adds some dummy example fields\n",
    "gt.add_field(triang_grid, \"node_index\", \"scalar\", \n",
    "                    [i for i in 1:triang_grid.nnodes], \"node\")\n",
    "gt.add_field(triang_grid, \"cell_index\", \"scalar\", \n",
    "                    [i for i in 1:triang_grid.ncells], \"cell\")\n",
    "gt.add_field(triang_grid, \"normal\", \"vector\", \n",
    "                    [gt.get_normal(triang_grid, i) \n",
    "                       for i in 1:triang_grid.ncells], \"cell\")\n",
    "gt.add_field(triang_grid, \"tangent\", \"vector\", \n",
    "                    [gt.get_tangent(triang_grid, i) \n",
    "                       for i in 1:triang_grid.ncells], \"cell\")\n",
    "\n",
    "if paraview\n",
    "    # Outputs a vtk file\n",
    "    gt.save(triang_grid, file_name)\n",
    "\n",
    "    # Calls paraview\n",
    "    run(`paraview --data=$file_name.vtk`)\n",
    "\n",
    "    # Delete vtk file\n",
    "    run(`rm -f $file_name.vtk`)\n",
    "end"
   ]
  },
  {
   "cell_type": "markdown",
   "metadata": {
    "hidden": true
   },
   "source": [
    "<img src=\"img/wing05.png\" alt=\"Pic here\" style=\"width: 800px;\"/>"
   ]
  },
  {
   "cell_type": "markdown",
   "metadata": {
    "heading_collapsed": true,
    "hidden": true
   },
   "source": [
    "## Example: Airfoil-shaped Grid "
   ]
  },
  {
   "cell_type": "markdown",
   "metadata": {
    "hidden": true
   },
   "source": [
    "Here we take the same airfoil we used for the parametric discretization example before, and we will use it for generating a grid that parameterizes the contour an generates a CFD-like grid around the airfoil shape, looking like this:\n",
    "\n",
    "<img src=\"img/airfoilgrid.png\" alt=\"Pic here\" style=\"width: 600px;\"/>"
   ]
  },
  {
   "cell_type": "code",
   "execution_count": null,
   "metadata": {
    "hidden": true
   },
   "outputs": [],
   "source": [
    "file_name = \"temp_airfoilshapedgrid00\"\n",
    "paraview = true\n",
    "\n",
    "\n",
    "# ----------------- READS AND PARAMETERIZES AIRFOIL ---------------------------\n",
    "# Read airfoil contour\n",
    "x,y = examples.readcontour(joinpath(data_path, \"S809.txt\"); header_len=2)\n",
    "examples.plot_airfoil(x,y; style=\"--.k\", title_str=\"Original Airfoil Geometry\")\n",
    "\n",
    "# Separate upper and lower surfaces to make the contour injective in x\n",
    "upper, lower = examples.splitcontour(x,y)\n",
    "\n",
    "# Parameterize both surfaces independently\n",
    "fun_upper = gt.parameterize(upper[1], upper[2], zeros(upper[1]); inj_var=1, s=1e-7)\n",
    "fun_lower = gt.parameterize(lower[1], lower[2], zeros(lower[1]); inj_var=1, s=1e-7)\n",
    "\n",
    "\n",
    "\n",
    "# ----------------- CREATES GRID OF AIRFOIL CONTOUR ---------------------------\n",
    "# Creates the grid as a two-dimensional square\n",
    "#   `X[1]` is the arc-length around the airfoil contour (between 0 and 1),\n",
    "#   `X[2]` is the normal distance to the airfoil\n",
    "\n",
    "P_min = [0, 0]             # Lower boundaries arclength, dummy\n",
    "P_max = [1, 0.25]          # Upper boundaries arclength, dummy\n",
    "# NDIVS = [100, 5]            # 100 arclength divisions, 0 dummys\n",
    "# NDIVS = [[(1.0, 100, 0.05, true)],\n",
    "#          [(1.0, 10, 5.0, false)] ]           \n",
    "NDIVS = [[(1.0, 10, 0.05, true)],\n",
    "         [(1.0, 3, 5.0, false)] ]           \n",
    "loop_dim = 0               # Loop the arclength dimension\n",
    "\n",
    "grid = gt.Grid(P_min, P_max, NDIVS, loop_dim)\n",
    "\n",
    "gt.plot(grid; labelnodes=!true, labelcells=!true, labelndivs=true, \n",
    "                fontsize=8, fig_name=\"org\", title_str=\"Original Grid\")\n",
    "\n",
    "\n",
    "# Creates a space transformation function\n",
    "function my_space_transform(X)\n",
    "    eps = 0.001     # Epsilon for tangential direction\n",
    "    up = X[1]<0.5\n",
    "    \n",
    "    if up\n",
    "        s = 1-2*X[1]\n",
    "        sgn = (-1)^(s-eps>=0)\n",
    "        point = fun_upper(s)          # Evaluation point\n",
    "        point2 = fun_upper(s+sgn*eps) # Point for tangential direction\n",
    "    else\n",
    "        s = 2*(X[1]-0.5)\n",
    "        sgn = (-1)^(s-eps>=0)\n",
    "        point = fun_lower(s)\n",
    "        point2 = fun_lower(s+sgn*eps) \n",
    "    end\n",
    "    \n",
    "    tng = ((-1)^!up)*sgn*(point-point2)/norm(point-point2) # Tangential direction\n",
    "    nrml = cross(tng, [0,0,1])                  # Normal direction\n",
    "    \n",
    "    return (point + X[2]*nrml)[1:2]\n",
    "end\n",
    "\n",
    "# Transforms the square into the airfoil-shaped grid\n",
    "gt.transform!(grid, my_space_transform)\n",
    "\n",
    "gt.plot(grid; labelnodes=!true, labelcells=!true, labelndivs=true, \n",
    "                fontsize=8, title_str=\"Transformed grid\");\n",
    "\n",
    "if paraview\n",
    "    # Outputs a vtk file\n",
    "    gt.save(grid, file_name)\n",
    "\n",
    "    # Calls paraview\n",
    "    run(`paraview --data=$file_name.vtk`)\n",
    "\n",
    "    # Delete vtk file\n",
    "    run(`rm -f $file_name.vtk`)\n",
    "end"
   ]
  },
  {
   "cell_type": "markdown",
   "metadata": {},
   "source": [
    "# Surface Meshing"
   ]
  },
  {
   "cell_type": "markdown",
   "metadata": {},
   "source": [
    "Based on the gridding methods already mentioned, I implemented a few ways of obtaining structured surface meshes as explained in the following sections. All this methods return a Grid object of two index with the structured surface mesh."
   ]
  },
  {
   "cell_type": "markdown",
   "metadata": {
    "heading_collapsed": true
   },
   "source": [
    "## Lofting"
   ]
  },
  {
   "cell_type": "code",
   "execution_count": null,
   "metadata": {
    "hidden": true
   },
   "outputs": [],
   "source": [
    "? gt.generate_loft"
   ]
  },
  {
   "cell_type": "markdown",
   "metadata": {
    "heading_collapsed": true,
    "hidden": true
   },
   "source": [
    "### Example: Paneled Wing"
   ]
  },
  {
   "cell_type": "markdown",
   "metadata": {
    "hidden": true
   },
   "source": [
    "<img src=\"img/wing06.png\" alt=\"Pic here\" style=\"width: 800px;\"/>"
   ]
  },
  {
   "cell_type": "code",
   "execution_count": null,
   "metadata": {
    "hidden": true
   },
   "outputs": [],
   "source": [
    "file_name = \"temp_paneledwing01\"\n",
    "\n",
    "# ----------------- GEOMETRY DESCRIPTION -------------------------------------\n",
    "semispan = 10                       # (m) semi-span length\n",
    "\n",
    "chords = [0.00 0.25;                # (semi-span position, chord c/semib)\n",
    "          0.25 0.20;\n",
    "          1.00 0.10]\n",
    "\n",
    "twists = [0.0 5;                    # (semi-span position, twist (deg))\n",
    "          1.0 0]\n",
    "\n",
    "x_pos = [0.00 0;                    # (semi-span position, LE x-position x/semib)\n",
    "         0.25 1/40;\n",
    "         1.00 1/8;]\n",
    "\n",
    "z_pos = [0.00 0;                    # (semi-span position, LE x-position x/semib)\n",
    "         0.25 1/100;\n",
    "         1.00 1/50]\n",
    "\n",
    "\n",
    "airfoil_files = [(0.0, \"naca6412.dat\"), # (semi-span position, airfoil file)\n",
    "                 (1.0, \"naca6412.dat\")]\n",
    "\n",
    "                                    # (semi-span position, airfoil geometry)\n",
    "airfoils = [(pos, gt.readcontour(f_name; path=data_path, output=\"matrix\"))  \n",
    "                                for (pos, f_name) in airfoil_files]\n",
    "\n",
    "\n",
    "# ----------------- MESHING PARAMETERS ---------------------------------------\n",
    "urfl_NDIVS = 50                     # Cells on upper side of airfoils\n",
    "lrfl_NDIVS = 50                     # Cells on lower side of airfoils\n",
    "b_NDIVS = 24                        # Span cells\n",
    "\n",
    "\n",
    "# ----------------- MESHINGING -----------------------------------------------\n",
    "wing_mesh = gt.generate_loft(airfoils, urfl_NDIVS, lrfl_NDIVS, \n",
    "                                semispan, -1, 1, b_NDIVS, \n",
    "                                chords, twists, x_pos, z_pos; \n",
    "                                symmetric=true, save_path=\"./\",\n",
    "                                paraview=true, file_name=file_name\n",
    "                            )\n",
    "\n",
    "# Delete vtk file\n",
    "run(`rm -f $file_name.vtk`)"
   ]
  },
  {
   "cell_type": "code",
   "execution_count": null,
   "metadata": {
    "hidden": true,
    "scrolled": false
   },
   "outputs": [],
   "source": [
    "# ----------------- MESHING PARAMETERS ---------------------------------------\n",
    "urfl_NDIVS = [(0.25, 20, 10.0, false),\n",
    "              (0.50, 10, 1.0, false),\n",
    "              (0.25, 20, 1/10.0, false)]                     # Cells on upper side of airfoils\n",
    "lrfl_NDIVS = urfl_NDIVS                     # Cells on lower side of airfoils\n",
    "b_NDIVS = [(1.0, 49, 20.0, true)]   # Span cell sections\n",
    "\n",
    "\n",
    "# ----------------- AIRFOIL SPLINING PARAMETERS ------------------------------\n",
    "rflspl_s = 0.000001\n",
    "rflspl_k = 5\n",
    "\n",
    "# ----------------- MESHINGING -----------------------------------------------\n",
    "wing_mesh = gt.generate_loft(airfoils, urfl_NDIVS, lrfl_NDIVS, \n",
    "                                semispan, -1, 1, b_NDIVS, \n",
    "                                chords, twists, x_pos, z_pos; \n",
    "                                symmetric=true, save_path=\"./\",\n",
    "                                paraview=true, file_name=file_name,\n",
    "                                rflspl_s=rflspl_s, rflspl_k=rflspl_k\n",
    "                            );\n",
    "\n",
    "# Delete vtk file\n",
    "run(`rm -f $file_name.vtk`)"
   ]
  },
  {
   "cell_type": "markdown",
   "metadata": {
    "heading_collapsed": true
   },
   "source": [
    "## Surface of Revolution"
   ]
  },
  {
   "cell_type": "markdown",
   "metadata": {
    "hidden": true
   },
   "source": [
    "Same concept as a body of revolution where a contour is revolved around an axis, but this generates the surface of such revolution."
   ]
  },
  {
   "cell_type": "code",
   "execution_count": null,
   "metadata": {
    "hidden": true
   },
   "outputs": [],
   "source": [
    "? gt.surface_revolution"
   ]
  },
  {
   "cell_type": "markdown",
   "metadata": {
    "heading_collapsed": true,
    "hidden": true
   },
   "source": [
    "### Example: Rotor Hub"
   ]
  },
  {
   "cell_type": "markdown",
   "metadata": {
    "hidden": true
   },
   "source": [
    "<img src=\"vid/hub00.gif\" alt=\"Vid here\" style=\"width: 800px;\"/>"
   ]
  },
  {
   "cell_type": "markdown",
   "metadata": {
    "hidden": true
   },
   "source": [
    "First we manually define the contour to revolve:"
   ]
  },
  {
   "cell_type": "code",
   "execution_count": null,
   "metadata": {
    "hidden": true
   },
   "outputs": [],
   "source": [
    "Rhub = 0.375*0.02542        # (m) radius of hub\n",
    "Rinn = Rhub/2               # (m) inner hole radius\n",
    "Rsec1 = Rinn                # (m) radius of first hole\n",
    "Rsec2 = 3/1000              # (m) radius of second hole\n",
    "Thub = Rhub                 # (m) thickness of hub\n",
    "dsec1 = 3/1000              # (m) depth of first hole\n",
    "\n",
    "Rfillet = 2/1000            # (m) Fillet radius\n",
    "Nfillet = 30                # Points along fillet\n",
    "Cfillet = [Rhub, Thub]-Rfillet      # Center of fillet\n",
    "\n",
    "points_fillet = [Cfillet + Rfillet*[sin(a), cos(a)] \n",
    "                        for a in linspace(0,pi/2,Nfillet)]\n",
    "\n",
    "points = hcat(\n",
    "              [Rsec2, Thub-dsec1],\n",
    "              [Rsec1, Thub-dsec1],\n",
    "              [Rsec1, Thub],\n",
    "              points_fillet...,\n",
    "              [Rhub, 0],\n",
    "              [Rsec1, 0],\n",
    "              [Rsec1, dsec1],\n",
    "              [Rsec2, dsec1],\n",
    "              [Rsec2, Thub-dsec1]\n",
    "             )'\n",
    "\n",
    "x = [points[i,1] for i in 1:size(points,1)]\n",
    "y = [points[i,2] for i in 1:size(points,1)]\n",
    "\n",
    "figure(figsize=(5,5))\n",
    "plot(x,y, \"--ok\")\n",
    "plot([Cfillet[1]], [Cfillet[2]], \"xr\")\n",
    "xlim([0, Rhub*1.25])\n",
    "ylim([-Rhub*0.125, Rhub*1.125]);"
   ]
  },
  {
   "cell_type": "markdown",
   "metadata": {
    "hidden": true
   },
   "source": [
    "Now we apply the revolution on that contour:"
   ]
  },
  {
   "cell_type": "code",
   "execution_count": null,
   "metadata": {
    "hidden": true
   },
   "outputs": [],
   "source": [
    "file_name = \"temp_rev00\"\n",
    "\n",
    "thetaNDIVS = 180         # Number of angular sections\n",
    "loop_dim = 1             # Loops the parametric grid\n",
    "\n",
    "\n",
    "grid = gt.surface_revolution(points, thetaNDIVS; loop_dim=loop_dim, \n",
    "                                save_path=\"./\", file_name=file_name)\n",
    "\n",
    "# Delete vtk file\n",
    "run(`rm -f $file_name.vtk`)"
   ]
  },
  {
   "cell_type": "markdown",
   "metadata": {
    "heading_collapsed": true,
    "hidden": true
   },
   "source": [
    "### Example: Tilted Revolution"
   ]
  },
  {
   "cell_type": "markdown",
   "metadata": {
    "hidden": true
   },
   "source": [
    "By using the optional argument `axis_angle` we can tilt the angle about which to do the revolution. Here is tilting it 90 about the z-axis, resulting in the y-axis:\n",
    "\n",
    "<img src=\"vid/hub02.gif\" alt=\"Vid here\" style=\"width: 800px;\"/>"
   ]
  },
  {
   "cell_type": "code",
   "execution_count": null,
   "metadata": {
    "hidden": true
   },
   "outputs": [],
   "source": [
    "thetaNDIVS = 180         # Number of angular sections\n",
    "loop_dim = 1             # Loops the parametric grid\n",
    "axis_angle = 90          # Axis tilting\n",
    "\n",
    "grid = gt.surface_revolution(points, thetaNDIVS; loop_dim=loop_dim, \n",
    "                                axis_angle=axis_angle,\n",
    "                                save_path=\"./\", file_name=file_name)\n",
    "\n",
    "# Delete vtk file\n",
    "run(`rm -f $file_name.vtk`)"
   ]
  },
  {
   "cell_type": "markdown",
   "metadata": {
    "hidden": true
   },
   "source": [
    "And here is tilted 45 deg about the z-axis:\n",
    "\n",
    "<img src=\"vid/hub03.gif\" alt=\"Vid here\" style=\"width: 800px;\"/>"
   ]
  },
  {
   "cell_type": "code",
   "execution_count": null,
   "metadata": {
    "hidden": true
   },
   "outputs": [],
   "source": [
    "axis_angle = 45          # Axis tilting\n",
    "\n",
    "grid = gt.surface_revolution(points, thetaNDIVS; loop_dim=loop_dim, \n",
    "                                axis_angle=axis_angle,\n",
    "                                save_path=\"./\", file_name=file_name)\n",
    "\n",
    "# Delete vtk file\n",
    "run(`rm -f $file_name.vtk`)"
   ]
  },
  {
   "cell_type": "markdown",
   "metadata": {
    "heading_collapsed": true,
    "hidden": true
   },
   "source": [
    "### Example: Incomplete Revolution"
   ]
  },
  {
   "cell_type": "markdown",
   "metadata": {
    "hidden": true
   },
   "source": [
    "Using the arguments `low_a` and `up_a` we can set the lower and upper bound angles of the revolution to create an incomplete body of revolution:\n",
    "\n",
    "<img src=\"vid/hub04.gif\" alt=\"Vid here\" style=\"width: 800px;\"/>"
   ]
  },
  {
   "cell_type": "code",
   "execution_count": null,
   "metadata": {
    "hidden": true
   },
   "outputs": [],
   "source": [
    "thetaNDIVS = 45          # Number of angular sections\n",
    "loop_dim = 1             # Loops the parametric grid\n",
    "low_a = -45              # Lower bound of revolution angle\n",
    "up_a = 45                # Upper bound of revolution angle\n",
    "\n",
    "grid = gt.surface_revolution(points, thetaNDIVS; loop_dim=loop_dim, \n",
    "                                low_a=low_a, up_a=up_a,\n",
    "                                save_path=\"./\", file_name=file_name)\n",
    "\n",
    "# Delete vtk file\n",
    "run(`rm -f $file_name.vtk`)"
   ]
  },
  {
   "cell_type": "markdown",
   "metadata": {
    "heading_collapsed": true
   },
   "source": [
    "# Space Transformations"
   ]
  },
  {
   "cell_type": "markdown",
   "metadata": {
    "heading_collapsed": true,
    "hidden": true
   },
   "source": [
    "## Rotation Matrix"
   ]
  },
  {
   "cell_type": "markdown",
   "metadata": {
    "hidden": true
   },
   "source": [
    "<img src=\"img/aircraftrotation.jpg\" alt=\"Pic here\" style=\"width: 300px;\"/>"
   ]
  },
  {
   "cell_type": "code",
   "execution_count": null,
   "metadata": {
    "hidden": true
   },
   "outputs": [],
   "source": [
    "? gt.rotation_matrix2"
   ]
  },
  {
   "cell_type": "markdown",
   "metadata": {
    "heading_collapsed": true,
    "hidden": true
   },
   "source": [
    "## Linear Transformation"
   ]
  },
  {
   "cell_type": "markdown",
   "metadata": {
    "heading_collapsed": true,
    "hidden": true
   },
   "source": [
    "### Plotting Function"
   ]
  },
  {
   "cell_type": "code",
   "execution_count": null,
   "metadata": {
    "hidden": true,
    "hideCode": true,
    "hideOutput": true
   },
   "outputs": [],
   "source": [
    "function test_tranf_function(fun, V, M, T; pygui_flag=false)\n",
    "\n",
    "#     V = [1.0, 0, 0]                    # Test vector V\n",
    "#     M = gt.rotation_matrix(0, 0, 45)   # Rotation axes M\n",
    "#     T = [1.0, 1, 0]                    # Translation vector T\n",
    "    Vp = fun(V, M, T)           # Transformed vector Vp\n",
    "    \n",
    "    display(\"Original V:              $V\")\n",
    "    display(\"V after transformation:  $Vp\")\n",
    "\n",
    "\n",
    "    Oaxis_org = eye(3)                   # Original origin\n",
    "    fontsize = 12                        # Font size\n",
    "    fontsize2 = 6                        # Smaller font size\n",
    "    lims = [-1.5, 1.5]                       # Axes limits\n",
    "    pygui(pygui_flag)                    # Whether to pull the gui\n",
    "    \n",
    "    if fun==gt.transform\n",
    "        ttl1 = L\"Original Coordinate System $\\mathcal{O}$\" \n",
    "        ttl2 = L\"Transformed Coordinate System $\\mathcal{O}'$\"\n",
    "        Op = zeros(3)\n",
    "        Mback = eye(3)\n",
    "        M1 = M\n",
    "        lblV1 = L\"V\"\n",
    "        lblV2 = L\"V'\"\n",
    "        lbl2 = L\"\\mathcal{O}'\"\n",
    "        clr2 = \"red\"\n",
    "        axlbl2 = [L\"x'\", L\"y'\", L\"z'\"]\n",
    "    elseif fun==gt.countertransform\n",
    "        ttl1 = L\"Transformed Coordinate System $\\mathcal{O}'$\"\n",
    "        ttl2 = L\"Original Coordinate System $\\mathcal{O}$\" \n",
    "        Op = T\n",
    "        Mback = M\n",
    "        M1 = inv(M)\n",
    "        lblV1 = L\"V'\"\n",
    "        lblV2 = L\"V\"\n",
    "        lbl2 = L\"\\mathcal{O}\"\n",
    "        clr2 = \"black\"\n",
    "        axlbl2 = [L\"x\", L\"y\", L\"z\"]\n",
    "    else\n",
    "        error(\"Unkown function $fun\")\n",
    "    end\n",
    "\n",
    "\n",
    "    # ------------- PLOTTING IN ORIGINAL SYSTEM ------------------------------------\n",
    "    fig = PyPlot.figure(\"figure1\")\n",
    "    ax = fig[:gca](projection=\"3d\")\n",
    "    title(ttl1)\n",
    "\n",
    "    xlim(lims)\n",
    "    ylim(lims)\n",
    "    zlim(lims)\n",
    "#     xlabel(L\"x\")\n",
    "#     ylabel(L\"y\")\n",
    "#     zlabel(L\"z\")\n",
    "\n",
    "    # Plots original origin\n",
    "    vectors_to_plot = [          # Tail,     Head relative to tail\n",
    "                        vcat(   zeros(3),    Oaxis_org[1,:]/2), \n",
    "                        vcat(   zeros(3),    Oaxis_org[2,:]/2), \n",
    "                        vcat(   zeros(3),    Oaxis_org[3,:]/2), \n",
    "                        ]\n",
    "    xyzuvw = [ [v[i] for v in vectors_to_plot] for i in 1:6]\n",
    "    ax[:quiver]( xyzuvw..., color=\"black\")\n",
    "    text3D( (-0.2*ones(3))..., L\"\\mathcal{O}\", fontsize=fontsize, color=\"black\")\n",
    "    text3D( (Oaxis_org[1,:]/2)..., L\"x\", fontsize=fontsize2, color=\"black\")\n",
    "    text3D( (Oaxis_org[2,:]/2)..., L\"y\", fontsize=fontsize2, color=\"black\")\n",
    "    text3D( (Oaxis_org[3,:]/2)..., L\"z\", fontsize=fontsize2, color=\"black\")\n",
    "\n",
    "    # Plots V\n",
    "    vectors_to_plot = [          # Tail,     Head relative to tail\n",
    "                        vcat(    Op,         Mback*V), \n",
    "                        ]\n",
    "    xyzuvw = [ [v[i] for v in vectors_to_plot] for i in 1:6]\n",
    "    ax[:quiver]( xyzuvw... )\n",
    "    text3D( (Op+Mback*V)..., lblV1, fontsize=fontsize, color=\"black\")\n",
    "\n",
    "\n",
    "    # Plots T\n",
    "    vectors_to_plot = [          # Tail,     Head relative to tail\n",
    "                        vcat(   zeros(3),    T), \n",
    "                        ]\n",
    "    xyzuvw = [ [v[i] for v in vectors_to_plot] for i in 1:6]\n",
    "    ax[:quiver]( xyzuvw..., color=\"cyan\" )\n",
    "    if T!=zeros(3); text3D( (T/2)..., L\"T\", fontsize=fontsize, color=\"cyan\"); end;\n",
    "\n",
    "\n",
    "    # Plots M\n",
    "    vectors_to_plot = [          # Tail,     Head relative to tail\n",
    "                        vcat(   T,           M1[1,:]/2), \n",
    "                        vcat(   T,           M1[2,:]/2), \n",
    "                        vcat(   T,           M1[3,:]/2), \n",
    "                        ]\n",
    "    xyzuvw = [ [v[i] for v in vectors_to_plot] for i in 1:6]\n",
    "    ax[:quiver]( xyzuvw..., color=\"red\")\n",
    "    text3D( (T-[0.2, 0.2, 0].*ones(3))..., L\"\\mathcal{O}'\", fontsize=fontsize, color=\"red\")\n",
    "    text3D( (T+M1[1,:]/2)..., L\"x'\", fontsize=fontsize2, color=\"red\")\n",
    "    text3D( (T+M1[2,:]/2)..., L\"y'\", fontsize=fontsize2, color=\"red\")\n",
    "    text3D( (T+M1[3,:]/2)..., L\"z'\", fontsize=fontsize2, color=\"red\")\n",
    "\n",
    "\n",
    "    # ------------- PLOTTING IN ORIGINAL SYSTEM ------------------------------------\n",
    "    fig = PyPlot.figure(\"figure2\")\n",
    "    ax = fig[:gca](projection=\"3d\")\n",
    "    title(ttl2)\n",
    "\n",
    "    xlim(lims)\n",
    "    ylim(lims)\n",
    "    zlim(lims)\n",
    "    xlabel(L\"x\")\n",
    "    ylabel(L\"y\")\n",
    "    zlabel(L\"z\")\n",
    "\n",
    "    # Plots new origin\n",
    "    vectors_to_plot = [          # Tail,     Head relative to tail\n",
    "                        vcat(   zeros(3),    Oaxis_org[1,:]/2), \n",
    "                        vcat(   zeros(3),    Oaxis_org[2,:]/2), \n",
    "                        vcat(   zeros(3),    Oaxis_org[3,:]/2), \n",
    "                        ]\n",
    "    xyzuvw = [ [v[i] for v in vectors_to_plot] for i in 1:6]\n",
    "    ax[:quiver]( xyzuvw..., color=clr2)\n",
    "    text3D( (-0.2*ones(3))..., lbl2, fontsize=fontsize, color=clr2)\n",
    "    text3D( (Oaxis_org[1,:]/2)..., axlbl2[1], fontsize=fontsize2, color=clr2)\n",
    "    text3D( (Oaxis_org[2,:]/2)..., axlbl2[2], fontsize=fontsize2, color=clr2)\n",
    "    text3D( (Oaxis_org[3,:]/2)..., axlbl2[3], fontsize=fontsize2, color=clr2)\n",
    "\n",
    "    # Plots V\n",
    "    vectors_to_plot = [          # Tail,     Head relative to tail\n",
    "                        vcat(   zeros(3),    Vp), \n",
    "                        ]\n",
    "    xyzuvw = [ [v[i] for v in vectors_to_plot] for i in 1:6]\n",
    "    ax[:quiver]( xyzuvw... )\n",
    "    text3D( Vp..., lblV2, fontsize=fontsize, color=\"black\")\n",
    "end"
   ]
  },
  {
   "cell_type": "markdown",
   "metadata": {
    "heading_collapsed": true,
    "hidden": true
   },
   "source": [
    "###  `gt.transform()`"
   ]
  },
  {
   "cell_type": "code",
   "execution_count": null,
   "metadata": {
    "hidden": true
   },
   "outputs": [],
   "source": [
    "? gt.transform"
   ]
  },
  {
   "cell_type": "code",
   "execution_count": null,
   "metadata": {
    "hidden": true,
    "scrolled": false
   },
   "outputs": [],
   "source": [
    "V = [1.0, 0, 0]                    # Test vector V\n",
    "M = gt.rotation_matrix2(0, 0, 45)  # Rotation axes M\n",
    "T = [0.0, 0, 0]                    # Translation vector T\n",
    "\n",
    "test_tranf_function(gt.transform, V, M, T; pygui_flag=false)"
   ]
  },
  {
   "cell_type": "code",
   "execution_count": null,
   "metadata": {
    "hidden": true
   },
   "outputs": [],
   "source": [
    "V = [1.0, 0, 0]                    # Test vector V\n",
    "M = gt.rotation_matrix2(0, 0, 45)   # Rotation axes M\n",
    "T = [-1.0, 0, 0]                    # Translation vector T\n",
    "\n",
    "test_tranf_function(gt.transform, V, M, T; pygui_flag=false)"
   ]
  },
  {
   "cell_type": "code",
   "execution_count": null,
   "metadata": {
    "hidden": true
   },
   "outputs": [],
   "source": [
    "V = [1.0, 0, 0]                    # Test vector V\n",
    "M = gt.rotation_matrix2(0, 0, 45)   # Rotation axes M\n",
    "T = [-1.0, -1.0, 0]                    # Translation vector T\n",
    "\n",
    "test_tranf_function(gt.transform, V, M, T; pygui_flag=false)"
   ]
  },
  {
   "cell_type": "code",
   "execution_count": null,
   "metadata": {
    "hidden": true
   },
   "outputs": [],
   "source": [
    "V = [1.0, 0, 0]                    # Test vector V\n",
    "M = gt.rotation_matrix2(0, -45, 45)   # Rotation axes M\n",
    "T = [-1.0, -1.0, 0]                    # Translation vector T\n",
    "\n",
    "test_tranf_function(gt.transform, V, M, T; pygui_flag=false)"
   ]
  },
  {
   "cell_type": "markdown",
   "metadata": {
    "heading_collapsed": true,
    "hidden": true
   },
   "source": [
    "###  `gt.countertransform()`"
   ]
  },
  {
   "cell_type": "code",
   "execution_count": null,
   "metadata": {
    "hidden": true
   },
   "outputs": [],
   "source": [
    "? gt.countertransform"
   ]
  },
  {
   "cell_type": "code",
   "execution_count": null,
   "metadata": {
    "hidden": true
   },
   "outputs": [],
   "source": [
    "Vp = [0.707107, 0.707107, 0.0]              # Test vector V\n",
    "invM = inv(gt.rotation_matrix2(0, 0, 45))   # Inverse rotation axes M\n",
    "T = [0.0, 0, 0]                             # Translation vector T\n",
    "\n",
    "test_tranf_function(gt.countertransform, Vp, invM, T; pygui_flag=false)"
   ]
  },
  {
   "cell_type": "code",
   "execution_count": null,
   "metadata": {
    "hidden": true
   },
   "outputs": [],
   "source": [
    "Vp = [1.41421, 1.41421, 0.0]                 # Test vector V\n",
    "invM = inv(gt.rotation_matrix2(0, 0, 45))    # Inverse rotation axes M\n",
    "T = [-1.0, 0, 0]                             # Translation vector T\n",
    "\n",
    "test_tranf_function(gt.countertransform, Vp, invM, T; pygui_flag=false)"
   ]
  },
  {
   "cell_type": "code",
   "execution_count": null,
   "metadata": {
    "hidden": true
   },
   "outputs": [],
   "source": [
    "V = [0.707107, 2.12132, 0.0]                    # Test vector V\n",
    "M = inv(gt.rotation_matrix2(0, 0, 45))   # Rotation axes M\n",
    "T = [-1.0, -1.0, 0]                    # Translation vector T\n",
    "\n",
    "test_tranf_function(gt.countertransform, V, M, T; pygui_flag=false)"
   ]
  },
  {
   "cell_type": "code",
   "execution_count": null,
   "metadata": {
    "hidden": true
   },
   "outputs": [],
   "source": [
    "V = [0.292893, 1.70711, 1.41421]                    # Test vector V\n",
    "M = inv(gt.rotation_matrix2(0, -45, 45))   # Rotation axes M\n",
    "T = [-1.0, -1.0, 0]                    # Translation vector T\n",
    "\n",
    "test_tranf_function(gt.countertransform, V, M, T; pygui_flag=false)"
   ]
  },
  {
   "cell_type": "markdown",
   "metadata": {},
   "source": [
    "# Q&A"
   ]
  },
  {
   "cell_type": "markdown",
   "metadata": {
    "heading_collapsed": true
   },
   "source": [
    "## How can I define a vtk line with data associated to it?"
   ]
  },
  {
   "cell_type": "markdown",
   "metadata": {
    "hidden": true
   },
   "source": [
    "Easy peasy Kevin, this is done with the `lines2vtk()` function:\n",
    "\n",
    "```julia\n",
    "lines = # some collections of points defining lines\n",
    "datas = # vector data at each point of each line\n",
    "\n",
    "# Formats the line into vtk\n",
    "points, vtk_lines, vtk_values = gt.lines2vtk(lines; values=datas)\n",
    "\n",
    "# Formats the original data as a data field\n",
    "data = [Dict(\n",
    "                \"field_name\" => \"MyAwesomeData\",\n",
    "                \"field_type\" => \"vector\",\n",
    "                \"field_data\" => vtk_values\n",
    "       )]\n",
    "\n",
    "# Outputs vtk\n",
    "gt.generateVTK(file_name, points;\n",
    "                    lines=vtk_lines,\n",
    "                    point_data=data)\n",
    "```"
   ]
  },
  {
   "cell_type": "code",
   "execution_count": null,
   "metadata": {
    "hidden": true
   },
   "outputs": [],
   "source": [
    "? gt.lines2vtk"
   ]
  },
  {
   "cell_type": "markdown",
   "metadata": {
    "hidden": true
   },
   "source": [
    "The following lines defines a section of a circle's perimeter and adds vectors at every node and section point in the direction of the centroid:\n",
    "\n",
    "\n",
    "<img src=\"img/line00.png\" alt=\"Pic here\" style=\"width: 300px;\"/>"
   ]
  },
  {
   "cell_type": "code",
   "execution_count": null,
   "metadata": {
    "hidden": true
   },
   "outputs": [],
   "source": [
    "file_name = \"temp_line00\"\n",
    "paraview = true\n",
    "\n",
    "# ----------------- PARAMETERS ------------------------------------------------\n",
    "C = zeros(3)            # Circle's centroid\n",
    "R = 1                   # Radius\n",
    "phi_min = -45*pi/180    # (deg) minimum angle\n",
    "phi_max = 45*pi/180     # (deg) maximum angle\n",
    "n = 10                  # Number of sections\n",
    "\n",
    "\n",
    "# ----------------- LINE DEFINITION -------------------------------------------\n",
    "# Defines every point along the line\n",
    "line = []\n",
    "vectors = []\n",
    "for angle in linspace(phi_min, phi_max, n+1)\n",
    "    \n",
    "    # Point\n",
    "    point = C + R*[sin(angle), cos(angle), 0]\n",
    "    \n",
    "    # Vector pointing towards the centroid\n",
    "    vector = C - point\n",
    "    \n",
    "    push!(line, point)\n",
    "    push!(vectors, vector)\n",
    "    \n",
    "end\n",
    "\n",
    "# lines2vtk operates over multiple lines; in our case\n",
    "# we have only one, but we still need to wrap it into\n",
    "# an array\n",
    "lines = [line]\n",
    "values = [vectors]\n",
    "\n",
    "# Formats the line into vtk\n",
    "points, vtk_lines, vtk_values = gt.lines2vtk(lines; values=values)\n",
    "\n",
    "# Formats the vectors as a data field\n",
    "data = [Dict(\n",
    "                \"field_name\" => \"Radius\",\n",
    "                \"field_type\" => \"vector\",\n",
    "                \"field_data\" => vtk_values\n",
    "       )]\n",
    "\n",
    "# Outputs vtk\n",
    "gt.generateVTK(file_name, points;\n",
    "                    lines=vtk_lines,\n",
    "                    point_data=data)\n",
    "\n",
    "\n",
    "# ----------------- VISUALIZATION ---------------------------------------------\n",
    "if paraview\n",
    "    # Calls paraview\n",
    "    run(`paraview --data=$file_name.vtk`)\n",
    "\n",
    "    # Delete vtk file\n",
    "    run(`rm -f $file_name.vtk`)\n",
    "end"
   ]
  }
 ],
 "metadata": {
  "hide_code_all_hidden": false,
  "kernelspec": {
   "display_name": "Julia 0.7.0",
   "language": "julia",
   "name": "julia-0.7"
  },
  "language_info": {
   "file_extension": ".jl",
   "mimetype": "application/julia",
   "name": "julia",
   "version": "0.7.0"
  }
 },
 "nbformat": 4,
 "nbformat_minor": 2
}
